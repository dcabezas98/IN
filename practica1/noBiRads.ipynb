{
 "cells": [
  {
   "cell_type": "code",
   "execution_count": 1,
   "metadata": {},
   "outputs": [],
   "source": [
    "SEED=185"
   ]
  },
  {
   "cell_type": "code",
   "execution_count": 2,
   "metadata": {},
   "outputs": [],
   "source": [
    "import pandas as pd\n",
    "import numpy as np\n",
    "\n",
    "from models import modelsRun\n",
    "from sklearn import preprocessing"
   ]
  },
  {
   "cell_type": "code",
   "execution_count": 3,
   "metadata": {},
   "outputs": [],
   "source": [
    "DATA='data/mamografias.csv'\n",
    "\n",
    "# Función para leer los datos\n",
    "def readData(data_file):\n",
    "    return pd.read_csv(data_file,sep=',', na_values='?')\n",
    "\n",
    "data = readData(DATA) # Lectura de los datos\n",
    "\n",
    "data.rename(columns = {'BI-RADS':'BiRads'}, inplace = True) # Para poder referirnos a esta columna como data.BiRads\n",
    "data.BiRads.replace(0,pd.NA,inplace=True) # BiRads 0 significa radiografía insuficiente\n",
    "data.Shape.replace('N',pd.NA,inplace=True) # Lo mismo pasa con Shape N\n",
    "data.replace(pd.NA, np.nan, inplace=True)\n",
    "\n",
    "data=data.dropna() # Eliminamos las instancias con valores perdidos\n",
    "data.shape[0] # Nos quedamos con 825 instancias\n",
    "\n",
    "# La distribución de la característica densidad es prácticamente degenerada en 3\n",
    "data.drop('Density', axis='columns',inplace=True)\n",
    "\n",
    "data.drop('BiRads', axis='columns',inplace=True) # Probamos a eliminar BiRads"
   ]
  },
  {
   "cell_type": "code",
   "execution_count": 4,
   "metadata": {
    "scrolled": true
   },
   "outputs": [
    {
     "name": "stdout",
     "output_type": "stream",
     "text": [
      "['benigno' 'maligno']\n"
     ]
    }
   ],
   "source": [
    "# Sklearn necesita datos numéricos (aunque sean nominales)\n",
    "le = preprocessing.LabelEncoder()\n",
    "data.Shape = le.fit_transform(data.Shape)\n",
    "data.Severity = le.fit_transform(data.Severity)\n",
    "print(le.inverse_transform([0,1])) # Consideraremos maligno como la clase positiva"
   ]
  },
  {
   "cell_type": "code",
   "execution_count": 5,
   "metadata": {},
   "outputs": [
    {
     "name": "stdout",
     "output_type": "stream",
     "text": [
      "Index(['Age', 'Shape', 'Margin', 'Severity'], dtype='object')\n"
     ]
    },
    {
     "data": {
      "text/plain": [
       "array([[67.,  1.,  5.,  1.],\n",
       "       [58.,  0.,  5.,  1.],\n",
       "       [28.,  3.,  1.,  0.],\n",
       "       ...,\n",
       "       [64.,  0.,  5.,  0.],\n",
       "       [66.,  0.,  5.,  1.],\n",
       "       [62.,  1.,  3.,  0.]])"
      ]
     },
     "execution_count": 5,
     "metadata": {},
     "output_type": "execute_result"
    }
   ],
   "source": [
    "dataArray=np.array(data)\n",
    "print(data.columns)\n",
    "dataArray"
   ]
  },
  {
   "cell_type": "code",
   "execution_count": 6,
   "metadata": {
    "scrolled": true
   },
   "outputs": [],
   "source": [
    "# Separamos en datos y target (label)\n",
    "x=dataArray[:,:-1]\n",
    "y=dataArray[:,-1]"
   ]
  },
  {
   "cell_type": "code",
   "execution_count": 7,
   "metadata": {
    "scrolled": true
   },
   "outputs": [],
   "source": [
    "# Binarización de los atributos nominales\n",
    "x_nom=x[:,1:3] # Columnas con variables nominales: Shape y Margin\n",
    "x=np.delete(x,[1,2],axis=1) # Elimino las columnas\n",
    "onehot = preprocessing.OneHotEncoder(sparse=False)\n",
    "x_nom = onehot.fit_transform(x_nom)\n",
    "x=np.hstack((x,x_nom))"
   ]
  },
  {
   "cell_type": "code",
   "execution_count": 8,
   "metadata": {
    "scrolled": true
   },
   "outputs": [
    {
     "data": {
      "text/plain": [
       "array([[ 0.76743452, -0.91287093,  3.03070704, ..., -0.38188131,\n",
       "        -0.66127319,  2.35533841],\n",
       "       [ 0.15413118,  1.09544512, -0.32995601, ..., -0.38188131,\n",
       "        -0.66127319,  2.35533841],\n",
       "       [-1.89021329, -0.91287093, -0.32995601, ..., -0.38188131,\n",
       "        -0.66127319, -0.42456744],\n",
       "       ...,\n",
       "       [ 0.56300008,  1.09544512, -0.32995601, ..., -0.38188131,\n",
       "        -0.66127319,  2.35533841],\n",
       "       [ 0.69928971,  1.09544512, -0.32995601, ..., -0.38188131,\n",
       "        -0.66127319,  2.35533841],\n",
       "       [ 0.42671045, -0.91287093,  3.03070704, ...,  2.61861468,\n",
       "        -0.66127319, -0.42456744]])"
      ]
     },
     "execution_count": 8,
     "metadata": {},
     "output_type": "execute_result"
    }
   ],
   "source": [
    "# Estandarizado de las variables\n",
    "scaler = preprocessing.StandardScaler()\n",
    "x=scaler.fit_transform(x)\n",
    "x"
   ]
  },
  {
   "cell_type": "code",
   "execution_count": 9,
   "metadata": {},
   "outputs": [],
   "source": [
    "modelsRun(x,y,'noBiRads')"
   ]
  }
 ],
 "metadata": {
  "kernelspec": {
   "display_name": "Python 3",
   "language": "python",
   "name": "python3"
  },
  "language_info": {
   "codemirror_mode": {
    "name": "ipython",
    "version": 3
   },
   "file_extension": ".py",
   "mimetype": "text/x-python",
   "name": "python",
   "nbconvert_exporter": "python",
   "pygments_lexer": "ipython3",
   "version": "3.6.9"
  }
 },
 "nbformat": 4,
 "nbformat_minor": 2
}
