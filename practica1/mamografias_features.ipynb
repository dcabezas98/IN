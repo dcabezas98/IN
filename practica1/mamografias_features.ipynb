{
 "cells": [
  {
   "cell_type": "code",
   "execution_count": 1,
   "metadata": {},
   "outputs": [],
   "source": [
    "SEED=185"
   ]
  },
  {
   "cell_type": "code",
   "execution_count": 2,
   "metadata": {},
   "outputs": [],
   "source": [
    "import pandas as pd\n",
    "import numpy as np\n",
    "\n",
    "from modelsDefault import defaultModelsRun\n",
    "from models import modelsRun\n",
    "from sklearn import preprocessing"
   ]
  },
  {
   "cell_type": "code",
   "execution_count": 3,
   "metadata": {},
   "outputs": [
    {
     "data": {
      "text/plain": [
       "825"
      ]
     },
     "execution_count": 3,
     "metadata": {},
     "output_type": "execute_result"
    }
   ],
   "source": [
    "DATA='data/mamografias.csv'\n",
    "\n",
    "# Función para leer los datos\n",
    "def readData(data_file):\n",
    "    return pd.read_csv(data_file,sep=',', na_values='?')\n",
    "\n",
    "data = readData(DATA) # Lectura de los datos\n",
    "\n",
    "data.rename(columns = {'BI-RADS':'BiRads'}, inplace = True) # Para poder referirnos a esta columna como data.BiRads\n",
    "data.BiRads.replace(0,pd.NA,inplace=True) # BiRads 0 significa radiografía insuficiente\n",
    "data.Shape.replace('N',pd.NA,inplace=True) # Lo mismo pasa con Shape N\n",
    "data.replace(pd.NA, np.nan, inplace=True)\n",
    "\n",
    "data=data.dropna() # Eliminamos las instancias con valores perdidos\n",
    "data.shape[0] # Nos quedamos con 825 instancias"
   ]
  },
  {
   "cell_type": "code",
   "execution_count": 4,
   "metadata": {
    "scrolled": true
   },
   "outputs": [
    {
     "data": {
      "text/html": [
       "<div>\n",
       "<style scoped>\n",
       "    .dataframe tbody tr th:only-of-type {\n",
       "        vertical-align: middle;\n",
       "    }\n",
       "\n",
       "    .dataframe tbody tr th {\n",
       "        vertical-align: top;\n",
       "    }\n",
       "\n",
       "    .dataframe thead th {\n",
       "        text-align: right;\n",
       "    }\n",
       "</style>\n",
       "<table border=\"1\" class=\"dataframe\">\n",
       "  <thead>\n",
       "    <tr style=\"text-align: right;\">\n",
       "      <th></th>\n",
       "      <th>BiRads</th>\n",
       "      <th>Age</th>\n",
       "      <th>Margin</th>\n",
       "      <th>Density</th>\n",
       "    </tr>\n",
       "  </thead>\n",
       "  <tbody>\n",
       "    <tr>\n",
       "      <th>count</th>\n",
       "      <td>825.000000</td>\n",
       "      <td>825.000000</td>\n",
       "      <td>825.000000</td>\n",
       "      <td>825.000000</td>\n",
       "    </tr>\n",
       "    <tr>\n",
       "      <th>mean</th>\n",
       "      <td>4.360000</td>\n",
       "      <td>55.738182</td>\n",
       "      <td>2.806061</td>\n",
       "      <td>2.915152</td>\n",
       "    </tr>\n",
       "    <tr>\n",
       "      <th>std</th>\n",
       "      <td>0.601455</td>\n",
       "      <td>14.683532</td>\n",
       "      <td>1.568412</td>\n",
       "      <td>0.351937</td>\n",
       "    </tr>\n",
       "    <tr>\n",
       "      <th>min</th>\n",
       "      <td>2.000000</td>\n",
       "      <td>18.000000</td>\n",
       "      <td>1.000000</td>\n",
       "      <td>1.000000</td>\n",
       "    </tr>\n",
       "    <tr>\n",
       "      <th>25%</th>\n",
       "      <td>4.000000</td>\n",
       "      <td>46.000000</td>\n",
       "      <td>1.000000</td>\n",
       "      <td>3.000000</td>\n",
       "    </tr>\n",
       "    <tr>\n",
       "      <th>50%</th>\n",
       "      <td>4.000000</td>\n",
       "      <td>57.000000</td>\n",
       "      <td>3.000000</td>\n",
       "      <td>3.000000</td>\n",
       "    </tr>\n",
       "    <tr>\n",
       "      <th>75%</th>\n",
       "      <td>5.000000</td>\n",
       "      <td>66.000000</td>\n",
       "      <td>4.000000</td>\n",
       "      <td>3.000000</td>\n",
       "    </tr>\n",
       "    <tr>\n",
       "      <th>max</th>\n",
       "      <td>6.000000</td>\n",
       "      <td>96.000000</td>\n",
       "      <td>5.000000</td>\n",
       "      <td>4.000000</td>\n",
       "    </tr>\n",
       "  </tbody>\n",
       "</table>\n",
       "</div>"
      ],
      "text/plain": [
       "           BiRads         Age      Margin     Density\n",
       "count  825.000000  825.000000  825.000000  825.000000\n",
       "mean     4.360000   55.738182    2.806061    2.915152\n",
       "std      0.601455   14.683532    1.568412    0.351937\n",
       "min      2.000000   18.000000    1.000000    1.000000\n",
       "25%      4.000000   46.000000    1.000000    3.000000\n",
       "50%      4.000000   57.000000    3.000000    3.000000\n",
       "75%      5.000000   66.000000    4.000000    3.000000\n",
       "max      6.000000   96.000000    5.000000    4.000000"
      ]
     },
     "execution_count": 4,
     "metadata": {},
     "output_type": "execute_result"
    }
   ],
   "source": [
    "data.describe() # Baja desviación en BiRads y en Density"
   ]
  },
  {
   "cell_type": "code",
   "execution_count": 5,
   "metadata": {
    "scrolled": true
   },
   "outputs": [
    {
     "name": "stdout",
     "output_type": "stream",
     "text": [
      "Counter({4.0: 468, 5.0: 317, 3.0: 24, 6.0: 9, 2.0: 7})\n",
      "Counter({3.0: 750, 2.0: 56, 1.0: 11, 4.0: 8})\n",
      "Counter({'I': 375, 'R': 190, 'O': 179, 'L': 81})\n"
     ]
    }
   ],
   "source": [
    "# Vemos que pasa, también con Shape, que al no ser numérica no se mostraba\n",
    "from collections import Counter\n",
    "print(Counter(data.BiRads)) # La mayoría de instancias tienen 4 o 5\n",
    "print(Counter(data.Density)) # La mayoría de instancias tienen 3\n",
    "print(Counter(data.Shape)) # Su distribuición está bastante lejos de ser degenerada"
   ]
  },
  {
   "cell_type": "code",
   "execution_count": 6,
   "metadata": {
    "scrolled": true
   },
   "outputs": [
    {
     "name": "stdout",
     "output_type": "stream",
     "text": [
      "Counter({4.0: 499, 5.0: 326})\n"
     ]
    },
    {
     "data": {
      "text/html": [
       "<div>\n",
       "<style scoped>\n",
       "    .dataframe tbody tr th:only-of-type {\n",
       "        vertical-align: middle;\n",
       "    }\n",
       "\n",
       "    .dataframe tbody tr th {\n",
       "        vertical-align: top;\n",
       "    }\n",
       "\n",
       "    .dataframe thead th {\n",
       "        text-align: right;\n",
       "    }\n",
       "</style>\n",
       "<table border=\"1\" class=\"dataframe\">\n",
       "  <thead>\n",
       "    <tr style=\"text-align: right;\">\n",
       "      <th></th>\n",
       "      <th>BiRads</th>\n",
       "      <th>Age</th>\n",
       "      <th>Shape</th>\n",
       "      <th>Margin</th>\n",
       "      <th>Severity</th>\n",
       "    </tr>\n",
       "  </thead>\n",
       "  <tbody>\n",
       "    <tr>\n",
       "      <th>0</th>\n",
       "      <td>5.0</td>\n",
       "      <td>67.0</td>\n",
       "      <td>L</td>\n",
       "      <td>5.0</td>\n",
       "      <td>maligno</td>\n",
       "    </tr>\n",
       "    <tr>\n",
       "      <th>2</th>\n",
       "      <td>5.0</td>\n",
       "      <td>58.0</td>\n",
       "      <td>I</td>\n",
       "      <td>5.0</td>\n",
       "      <td>maligno</td>\n",
       "    </tr>\n",
       "    <tr>\n",
       "      <th>3</th>\n",
       "      <td>4.0</td>\n",
       "      <td>28.0</td>\n",
       "      <td>R</td>\n",
       "      <td>1.0</td>\n",
       "      <td>benigno</td>\n",
       "    </tr>\n",
       "    <tr>\n",
       "      <th>8</th>\n",
       "      <td>5.0</td>\n",
       "      <td>57.0</td>\n",
       "      <td>R</td>\n",
       "      <td>5.0</td>\n",
       "      <td>maligno</td>\n",
       "    </tr>\n",
       "    <tr>\n",
       "      <th>10</th>\n",
       "      <td>5.0</td>\n",
       "      <td>76.0</td>\n",
       "      <td>R</td>\n",
       "      <td>4.0</td>\n",
       "      <td>maligno</td>\n",
       "    </tr>\n",
       "  </tbody>\n",
       "</table>\n",
       "</div>"
      ],
      "text/plain": [
       "    BiRads   Age Shape  Margin Severity\n",
       "0      5.0  67.0     L     5.0  maligno\n",
       "2      5.0  58.0     I     5.0  maligno\n",
       "3      4.0  28.0     R     1.0  benigno\n",
       "8      5.0  57.0     R     5.0  maligno\n",
       "10     5.0  76.0     R     4.0  maligno"
      ]
     },
     "execution_count": 6,
     "metadata": {},
     "output_type": "execute_result"
    }
   ],
   "source": [
    "# La distribución de la característica densidad es prácticamente degenerada en 3\n",
    "data.drop('Density', axis='columns',inplace=True)\n",
    "data.BiRads=data.BiRads.replace(6,5).replace(2,4).replace(3,4)\n",
    "print(Counter(data.BiRads))\n",
    "data.head()"
   ]
  },
  {
   "cell_type": "code",
   "execution_count": 7,
   "metadata": {
    "scrolled": true
   },
   "outputs": [
    {
     "name": "stdout",
     "output_type": "stream",
     "text": [
      "['benigno' 'maligno']\n"
     ]
    }
   ],
   "source": [
    "# Sklearn necesita datos numéricos (aunque sean nominales)\n",
    "le = preprocessing.LabelEncoder()\n",
    "data.Shape = le.fit_transform(data.Shape)\n",
    "data.Severity = le.fit_transform(data.Severity)\n",
    "print(le.inverse_transform([0,1])) # Consideraremos maligno como la clase positiva"
   ]
  },
  {
   "cell_type": "code",
   "execution_count": 8,
   "metadata": {
    "scrolled": true
   },
   "outputs": [
    {
     "data": {
      "text/html": [
       "<div>\n",
       "<style scoped>\n",
       "    .dataframe tbody tr th:only-of-type {\n",
       "        vertical-align: middle;\n",
       "    }\n",
       "\n",
       "    .dataframe tbody tr th {\n",
       "        vertical-align: top;\n",
       "    }\n",
       "\n",
       "    .dataframe thead th {\n",
       "        text-align: right;\n",
       "    }\n",
       "</style>\n",
       "<table border=\"1\" class=\"dataframe\">\n",
       "  <thead>\n",
       "    <tr style=\"text-align: right;\">\n",
       "      <th></th>\n",
       "      <th>BiRads</th>\n",
       "      <th>Age</th>\n",
       "      <th>Shape</th>\n",
       "      <th>Margin</th>\n",
       "      <th>Severity</th>\n",
       "    </tr>\n",
       "  </thead>\n",
       "  <tbody>\n",
       "    <tr>\n",
       "      <th>BiRads</th>\n",
       "      <td>1.000000</td>\n",
       "      <td>0.400823</td>\n",
       "      <td>-0.552308</td>\n",
       "      <td>0.574538</td>\n",
       "      <td>0.669436</td>\n",
       "    </tr>\n",
       "    <tr>\n",
       "      <th>Age</th>\n",
       "      <td>0.400823</td>\n",
       "      <td>1.000000</td>\n",
       "      <td>-0.377555</td>\n",
       "      <td>0.420682</td>\n",
       "      <td>0.453140</td>\n",
       "    </tr>\n",
       "    <tr>\n",
       "      <th>Shape</th>\n",
       "      <td>-0.552308</td>\n",
       "      <td>-0.377555</td>\n",
       "      <td>1.000000</td>\n",
       "      <td>-0.738531</td>\n",
       "      <td>-0.564691</td>\n",
       "    </tr>\n",
       "    <tr>\n",
       "      <th>Margin</th>\n",
       "      <td>0.574538</td>\n",
       "      <td>0.420682</td>\n",
       "      <td>-0.738531</td>\n",
       "      <td>1.000000</td>\n",
       "      <td>0.576492</td>\n",
       "    </tr>\n",
       "    <tr>\n",
       "      <th>Severity</th>\n",
       "      <td>0.669436</td>\n",
       "      <td>0.453140</td>\n",
       "      <td>-0.564691</td>\n",
       "      <td>0.576492</td>\n",
       "      <td>1.000000</td>\n",
       "    </tr>\n",
       "  </tbody>\n",
       "</table>\n",
       "</div>"
      ],
      "text/plain": [
       "            BiRads       Age     Shape    Margin  Severity\n",
       "BiRads    1.000000  0.400823 -0.552308  0.574538  0.669436\n",
       "Age       0.400823  1.000000 -0.377555  0.420682  0.453140\n",
       "Shape    -0.552308 -0.377555  1.000000 -0.738531 -0.564691\n",
       "Margin    0.574538  0.420682 -0.738531  1.000000  0.576492\n",
       "Severity  0.669436  0.453140 -0.564691  0.576492  1.000000"
      ]
     },
     "execution_count": 8,
     "metadata": {},
     "output_type": "execute_result"
    }
   ],
   "source": [
    "data.corr() # Severity tiene una correlación similar con todas, Shape y Margin están bastante correladas"
   ]
  },
  {
   "cell_type": "code",
   "execution_count": 9,
   "metadata": {},
   "outputs": [
    {
     "data": {
      "text/plain": [
       "array([[ 5., 67.,  1.,  5.,  1.],\n",
       "       [ 5., 58.,  0.,  5.,  1.],\n",
       "       [ 4., 28.,  3.,  1.,  0.],\n",
       "       ...,\n",
       "       [ 4., 64.,  0.,  5.,  0.],\n",
       "       [ 5., 66.,  0.,  5.,  1.],\n",
       "       [ 4., 62.,  1.,  3.,  0.]])"
      ]
     },
     "execution_count": 9,
     "metadata": {},
     "output_type": "execute_result"
    }
   ],
   "source": [
    "dataArray=np.array(data)\n",
    "dataArray"
   ]
  },
  {
   "cell_type": "code",
   "execution_count": 10,
   "metadata": {
    "scrolled": true
   },
   "outputs": [],
   "source": [
    "# Separamos en datos y target (label)\n",
    "x=dataArray[:,:-1]\n",
    "y=dataArray[:,-1]"
   ]
  },
  {
   "cell_type": "code",
   "execution_count": 11,
   "metadata": {},
   "outputs": [],
   "source": [
    "defaultModelsRun(x,y,'features')"
   ]
  },
  {
   "cell_type": "code",
   "execution_count": 12,
   "metadata": {},
   "outputs": [],
   "source": [
    "modelsRun(x,y,'features')"
   ]
  }
 ],
 "metadata": {
  "kernelspec": {
   "display_name": "Python 3",
   "language": "python",
   "name": "python3"
  },
  "language_info": {
   "codemirror_mode": {
    "name": "ipython",
    "version": 3
   },
   "file_extension": ".py",
   "mimetype": "text/x-python",
   "name": "python",
   "nbconvert_exporter": "python",
   "pygments_lexer": "ipython3",
   "version": "3.6.9"
  }
 },
 "nbformat": 4,
 "nbformat_minor": 2
}
