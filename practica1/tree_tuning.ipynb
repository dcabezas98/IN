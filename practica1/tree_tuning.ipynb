{
 "cells": [
  {
   "cell_type": "code",
   "execution_count": 1,
   "metadata": {},
   "outputs": [],
   "source": [
    "SEED=185"
   ]
  },
  {
   "cell_type": "code",
   "execution_count": 2,
   "metadata": {},
   "outputs": [],
   "source": [
    "import pandas as pd\n",
    "import numpy as np\n",
    "\n",
    "from runModels import runModels\n",
    "\n",
    "from sklearn import preprocessing\n",
    "from sklearn import tree\n",
    "from sklearn.ensemble import RandomForestClassifier"
   ]
  },
  {
   "cell_type": "code",
   "execution_count": 3,
   "metadata": {},
   "outputs": [],
   "source": [
    "DATA='data/mamografias.csv'\n",
    "\n",
    "# Función para leer los datos\n",
    "def readData(data_file):\n",
    "    return pd.read_csv(data_file,sep=',', na_values='?')\n",
    "\n",
    "data = readData(DATA) # Lectura de los datos\n",
    "\n",
    "data.rename(columns = {'BI-RADS':'BiRads'}, inplace = True) # Para poder referirnos a esta columna como data.BiRads\n",
    "data.BiRads.replace(0,pd.NA,inplace=True) # BiRads 0 significa radiografía insuficiente\n",
    "data.Shape.replace('N',pd.NA,inplace=True) # Lo mismo pasa con Shape N\n",
    "data.replace(pd.NA, np.nan, inplace=True)\n",
    "\n",
    "data=data.dropna() # Eliminamos las instancias con valores perdidos\n",
    "data.shape[0] # Nos quedamos con 825 instancias\n",
    "\n",
    "# La distribución de la característica densidad es prácticamente degenerada en 3\n",
    "data.drop('Density', axis='columns',inplace=True)\n",
    "data.BiRads=data.BiRads.replace(6,5).replace(2,4).replace(3,4)\n",
    "\n",
    "# Sklearn necesita datos numéricos (aunque sean nominales)\n",
    "le = preprocessing.LabelEncoder()\n",
    "data.Shape = le.fit_transform(data.Shape)\n",
    "data.Severity = le.fit_transform(data.Severity)\n",
    "\n",
    "dataArray=np.array(data)\n",
    "\n",
    "# Separamos en datos y target (label)\n",
    "x=dataArray[:,:-1]\n",
    "y=dataArray[:,-1]\n",
    "\n",
    "# Binarización de los atributos nominales\n",
    "x_nom=x[:,2:4] # Columnas con variables nominales: Shape y Margin\n",
    "x=np.delete(x,[2,3],axis=1) # Elimino las columnas\n",
    "onehot = preprocessing.OneHotEncoder(sparse=False)\n",
    "x_nom = onehot.fit_transform(x_nom)\n",
    "x=np.hstack((x,x_nom))\n",
    "# Para los árboles no reescalo los atributos porque no tiene efecto"
   ]
  },
  {
   "cell_type": "code",
   "execution_count": 4,
   "metadata": {},
   "outputs": [],
   "source": [
    "# Árbol de decisión con distintos valores del parámetro depth\n",
    "dt=[tree.DecisionTreeClassifier(max_depth=depth, random_state=SEED) for depth in [3,6,9]]\n",
    "model_names=['DT-depth'+str(d) for d in [3,6,9]]"
   ]
  },
  {
   "cell_type": "code",
   "execution_count": 5,
   "metadata": {},
   "outputs": [],
   "source": [
    "runModels(x,y,'DT_tuning',dt,model_names)"
   ]
  },
  {
   "cell_type": "code",
   "execution_count": 6,
   "metadata": {},
   "outputs": [],
   "source": [
    "# Random Forest con distinto número de estimadores\n",
    "rf=[RandomForestClassifier(n_estimators=n, random_state=SEED) for n in [50,100,150,200]]\n",
    "model_names=['RF-estimators'+str(n) for n in [50,100,150,200]]"
   ]
  },
  {
   "cell_type": "code",
   "execution_count": 7,
   "metadata": {},
   "outputs": [],
   "source": [
    "runModels(x,y,'RF_tuning',rf,model_names)"
   ]
  },
  {
   "cell_type": "code",
   "execution_count": 8,
   "metadata": {},
   "outputs": [],
   "source": [
    "# Random Forest con distinto número de estimadores\n",
    "rf=[RandomForestClassifier(n_estimators=n, random_state=SEED) for n in [400,600,800,1000]]\n",
    "model_names=['RF-estimators'+str(n) for n in [400,600,800,1000]]"
   ]
  },
  {
   "cell_type": "code",
   "execution_count": 9,
   "metadata": {},
   "outputs": [],
   "source": [
    "runModels(x,y,'RF_tuning2',rf,model_names)"
   ]
  }
 ],
 "metadata": {
  "kernelspec": {
   "display_name": "Python 3",
   "language": "python",
   "name": "python3"
  },
  "language_info": {
   "codemirror_mode": {
    "name": "ipython",
    "version": 3
   },
   "file_extension": ".py",
   "mimetype": "text/x-python",
   "name": "python",
   "nbconvert_exporter": "python",
   "pygments_lexer": "ipython3",
   "version": "3.6.9"
  }
 },
 "nbformat": 4,
 "nbformat_minor": 2
}
