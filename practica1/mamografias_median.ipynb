{
 "cells": [
  {
   "cell_type": "code",
   "execution_count": 1,
   "metadata": {},
   "outputs": [],
   "source": [
    "SEED=185"
   ]
  },
  {
   "cell_type": "code",
   "execution_count": 2,
   "metadata": {},
   "outputs": [],
   "source": [
    "import pandas as pd\n",
    "import numpy as np\n",
    "\n",
    "from sklearn.impute import SimpleImputer\n",
    "from sklearn import preprocessing\n",
    "from sklearn.model_selection import KFold\n",
    "from sklearn import tree\n",
    "from sklearn.naive_bayes import GaussianNB, MultinomialNB\n",
    "from sklearn.ensemble import RandomForestClassifier\n",
    "from sklearn.neighbors import KNeighborsClassifier\n",
    "from sklearn.neural_network import MLPClassifier\n",
    "from sklearn.dummy import DummyClassifier\n",
    "from sklearn.metrics import confusion_matrix"
   ]
  },
  {
   "cell_type": "code",
   "execution_count": 3,
   "metadata": {},
   "outputs": [
    {
     "data": {
      "text/plain": [
       "BiRads       7\n",
       "Age          5\n",
       "Shape       31\n",
       "Margin      48\n",
       "Density     76\n",
       "Severity     0\n",
       "dtype: int64"
      ]
     },
     "execution_count": 3,
     "metadata": {},
     "output_type": "execute_result"
    }
   ],
   "source": [
    "DATA='data/mamografias.csv'\n",
    "\n",
    "# Función para leer los datos\n",
    "def readData(data_file):\n",
    "    return pd.read_csv(data_file,sep=',', na_values='?')\n",
    "\n",
    "data = readData(DATA) # Lectura de los datos\n",
    "\n",
    "data.rename(columns = {'BI-RADS':'BiRads'}, inplace = True) # Para poder referirnos a esta columna como data.BiRads\n",
    "data.BiRads.replace(0,pd.NA,inplace=True) # BiRads 0 significa radiografía insuficiente\n",
    "data.Shape.replace('N',pd.NA,inplace=True) # Lo mismo pasa con Shape N\n",
    "data.replace(pd.NA, np.nan, inplace=True)\n",
    "data.isna().sum()"
   ]
  },
  {
   "cell_type": "code",
   "execution_count": 4,
   "metadata": {},
   "outputs": [
    {
     "data": {
      "text/plain": [
       "BiRads      0\n",
       "Age         0\n",
       "Shape       0\n",
       "Margin      0\n",
       "Density     0\n",
       "Severity    0\n",
       "dtype: int64"
      ]
     },
     "execution_count": 4,
     "metadata": {},
     "output_type": "execute_result"
    }
   ],
   "source": [
    "medianImputer=SimpleImputer(missing_values=np.nan,strategy='median') # Rellenamos valores perdidos con la mediana\n",
    "data[['BiRads','Age','Density']] = medianImputer.fit_transform(data[['BiRads','Age','Density']])\n",
    "modeImputer=SimpleImputer(missing_values=np.nan,strategy='most_frequent') # Para las nominales usamos la moda\n",
    "data[['Shape','Margin']] = modeImputer.fit_transform(data[['Shape','Margin']])\n",
    "data.isna().sum()"
   ]
  },
  {
   "cell_type": "code",
   "execution_count": 5,
   "metadata": {
    "scrolled": true
   },
   "outputs": [
    {
     "name": "stdout",
     "output_type": "stream",
     "text": [
      "['benigno' 'maligno']\n"
     ]
    }
   ],
   "source": [
    "# Sklearn necesita datos numéricos (aunque sean nominales)\n",
    "le = preprocessing.LabelEncoder()\n",
    "data.Shape = le.fit_transform(data.Shape)\n",
    "data.Severity = le.fit_transform(data.Severity)\n",
    "print(le.inverse_transform([0,1])) # Consideraremos maligno como la clase positiva"
   ]
  },
  {
   "cell_type": "code",
   "execution_count": 6,
   "metadata": {},
   "outputs": [
    {
     "data": {
      "text/plain": [
       "array([[ 5., 67.,  1.,  5.,  3.,  1.],\n",
       "       [ 4., 43.,  3.,  1.,  3.,  1.],\n",
       "       [ 5., 58.,  0.,  5.,  3.,  1.],\n",
       "       ...,\n",
       "       [ 4., 64.,  0.,  5.,  3.,  0.],\n",
       "       [ 5., 66.,  0.,  5.,  3.,  1.],\n",
       "       [ 4., 62.,  1.,  3.,  3.,  0.]])"
      ]
     },
     "execution_count": 6,
     "metadata": {},
     "output_type": "execute_result"
    }
   ],
   "source": [
    "dataArray=np.array(data)\n",
    "dataArray"
   ]
  },
  {
   "cell_type": "code",
   "execution_count": 7,
   "metadata": {
    "scrolled": true
   },
   "outputs": [],
   "source": [
    "# Separamos en datos y target (label)\n",
    "x=dataArray[:,:-1]\n",
    "y=dataArray[:,-1]"
   ]
  },
  {
   "cell_type": "code",
   "execution_count": 8,
   "metadata": {},
   "outputs": [],
   "source": [
    "# Para calcular la matriz de confusión usando validación cruzada sumamos las matrices obtenidas en las distintas particiones\n",
    "# https://stats.stackexchange.com/questions/147175/how-is-the-confusion-matrix-reported-from-k-fold-cross-validation\n",
    "# https://stackoverflow.com/questions/40057049/using-confusion-matrix-as-scoring-metric-in-cross-validation-in-scikit-learn\n",
    "def KFoldConfusionMatrix(model, data, target):\n",
    "    conf_matrix_list_of_arrays = []\n",
    "    kf = KFold(n_splits=5, shuffle=True, random_state=SEED)\n",
    "    for train_index, test_index in kf.split(data):\n",
    "        X_train, X_test = data[train_index], data[test_index]\n",
    "        y_train, y_test = target[train_index], target[test_index]\n",
    "        model.fit(X_train, y_train)\n",
    "        conf_matrix = confusion_matrix(y_test, model.predict(X_test))\n",
    "        conf_matrix_list_of_arrays.append(conf_matrix)\n",
    "    return np.sum(conf_matrix_list_of_arrays, axis=0)"
   ]
  },
  {
   "cell_type": "code",
   "execution_count": 9,
   "metadata": {},
   "outputs": [],
   "source": [
    "\"\"\" La matriz de confusión aparece como\n",
    "          Pred:    0  1\n",
    "(Benigno) Real=0: TN FP\n",
    "(Maligno) Real=1: FN TP\n",
    "\"\"\"\n",
    "# Quiero ponerla: TP, TN, FP, FN\n",
    "def mcToArray(mc):\n",
    "    return ', '.join(list(map(str,[mc[1][1], mc[0][0], mc[0][1], mc[1][0]])))"
   ]
  },
  {
   "cell_type": "code",
   "execution_count": 10,
   "metadata": {},
   "outputs": [
    {
     "name": "stdout",
     "output_type": "stream",
     "text": [
      "[[  0 516]\n",
      " [  0 445]]\n"
     ]
    }
   ],
   "source": [
    "# Dummy: siempre maligno (aunque benigno sea más frecuente)\n",
    "dummy=DummyClassifier(strategy='constant',constant=1)\n",
    "dummy_cf=KFoldConfusionMatrix(dummy, x, y)\n",
    "print(dummy_cf)"
   ]
  },
  {
   "cell_type": "code",
   "execution_count": 11,
   "metadata": {
    "scrolled": true
   },
   "outputs": [
    {
     "name": "stdout",
     "output_type": "stream",
     "text": [
      "[[420  96]\n",
      " [127 318]]\n"
     ]
    }
   ],
   "source": [
    "# Decision Tree\n",
    "dt=tree.DecisionTreeClassifier(random_state=SEED)\n",
    "dt_cf=KFoldConfusionMatrix(dt, x, y)\n",
    "print(dt_cf)"
   ]
  },
  {
   "cell_type": "code",
   "execution_count": 12,
   "metadata": {},
   "outputs": [
    {
     "name": "stdout",
     "output_type": "stream",
     "text": [
      "[[413 103]\n",
      " [ 71 374]]\n"
     ]
    }
   ],
   "source": [
    "# Gaussian Naive Bayes\n",
    "gnb=GaussianNB()\n",
    "gnb_cf=KFoldConfusionMatrix(gnb, x, y)\n",
    "print(gnb_cf)"
   ]
  },
  {
   "cell_type": "code",
   "execution_count": 13,
   "metadata": {
    "scrolled": true
   },
   "outputs": [
    {
     "name": "stdout",
     "output_type": "stream",
     "text": [
      "[[390 126]\n",
      " [ 82 363]]\n"
     ]
    }
   ],
   "source": [
    "# Multinomial Naive Bayes\n",
    "mnb=MultinomialNB()\n",
    "mnb_cf=KFoldConfusionMatrix(mnb, x, y)\n",
    "print(mnb_cf)"
   ]
  },
  {
   "cell_type": "code",
   "execution_count": 14,
   "metadata": {
    "scrolled": true
   },
   "outputs": [
    {
     "name": "stdout",
     "output_type": "stream",
     "text": [
      "[[420  96]\n",
      " [110 335]]\n"
     ]
    }
   ],
   "source": [
    "# Random Forest\n",
    "rf=RandomForestClassifier(n_jobs=4, random_state=SEED)\n",
    "rf_cf=KFoldConfusionMatrix(rf, x, y)\n",
    "print(rf_cf)"
   ]
  },
  {
   "cell_type": "code",
   "execution_count": 15,
   "metadata": {},
   "outputs": [
    {
     "name": "stdout",
     "output_type": "stream",
     "text": [
      "[[414 102]\n",
      " [ 99 346]]\n"
     ]
    }
   ],
   "source": [
    "# KNN\n",
    "knn=KNeighborsClassifier() # K=5 por defecto\n",
    "knn_cf=KFoldConfusionMatrix(knn, x, y)\n",
    "print(knn_cf)"
   ]
  },
  {
   "cell_type": "code",
   "execution_count": 16,
   "metadata": {},
   "outputs": [
    {
     "name": "stdout",
     "output_type": "stream",
     "text": [
      "[[410 106]\n",
      " [ 79 366]]\n"
     ]
    }
   ],
   "source": [
    "# Neural Network\n",
    "rn=MLPClassifier(max_iter=500,random_state=SEED) # Max_iter=500 porque recibí warning de convergencia\n",
    "rn_cf=KFoldConfusionMatrix(rn, x, y)\n",
    "print(rn_cf)"
   ]
  },
  {
   "cell_type": "code",
   "execution_count": 17,
   "metadata": {},
   "outputs": [],
   "source": [
    "with open(\"results/results_median.csv\",'w+') as outfile:\n",
    "    outfile.write('\\n'.join([\n",
    "            mcToArray(dummy_cf),\n",
    "            mcToArray(dt_cf),\n",
    "            mcToArray(gnb_cf),\n",
    "            mcToArray(mnb_cf),\n",
    "            mcToArray(rf_cf),\n",
    "            mcToArray(knn_cf),\n",
    "            mcToArray(rn_cf)\n",
    "        ]))"
   ]
  }
 ],
 "metadata": {
  "kernelspec": {
   "display_name": "Python 3",
   "language": "python",
   "name": "python3"
  },
  "language_info": {
   "codemirror_mode": {
    "name": "ipython",
    "version": 3
   },
   "file_extension": ".py",
   "mimetype": "text/x-python",
   "name": "python",
   "nbconvert_exporter": "python",
   "pygments_lexer": "ipython3",
   "version": "3.6.9"
  }
 },
 "nbformat": 4,
 "nbformat_minor": 2
}
