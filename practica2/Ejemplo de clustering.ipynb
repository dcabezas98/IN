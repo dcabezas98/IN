{
 "cells": [
  {
   "cell_type": "markdown",
   "metadata": {},
   "source": [
    "# Ejemplo de Clustering"
   ]
  },
  {
   "cell_type": "markdown",
   "metadata": {},
   "source": [
    "Este notebook es un ejemplo de uso de clustering usando una serie de funciones utilidades que se han definido para la práctica 2."
   ]
  },
  {
   "cell_type": "markdown",
   "metadata": {
    "ExecuteTime": {
     "end_time": "2020-11-15T16:27:07.886880Z",
     "start_time": "2020-11-15T16:27:07.883738Z"
    }
   },
   "source": [
    "## Carga del fichero"
   ]
  },
  {
   "cell_type": "markdown",
   "metadata": {},
   "source": [
    "En este caso voy a clasificar datos distintos al problema."
   ]
  },
  {
   "cell_type": "code",
   "execution_count": 1,
   "metadata": {
    "ExecuteTime": {
     "end_time": "2020-11-18T10:13:26.444765Z",
     "start_time": "2020-11-18T10:13:25.321800Z"
    }
   },
   "outputs": [],
   "source": [
    "import seaborn as sns"
   ]
  },
  {
   "cell_type": "code",
   "execution_count": 2,
   "metadata": {
    "ExecuteTime": {
     "end_time": "2020-11-18T10:13:26.462510Z",
     "start_time": "2020-11-18T10:13:26.447245Z"
    }
   },
   "outputs": [],
   "source": [
    "df_all = sns.load_dataset('penguins')"
   ]
  },
  {
   "cell_type": "code",
   "execution_count": 45,
   "metadata": {},
   "outputs": [
    {
     "data": {
      "text/plain": [
       "pandas.core.frame.DataFrame"
      ]
     },
     "execution_count": 45,
     "metadata": {},
     "output_type": "execute_result"
    }
   ],
   "source": [
    "type(df_all)"
   ]
  },
  {
   "cell_type": "code",
   "execution_count": 3,
   "metadata": {
    "ExecuteTime": {
     "end_time": "2020-11-18T10:13:26.495740Z",
     "start_time": "2020-11-18T10:13:26.464952Z"
    }
   },
   "outputs": [
    {
     "data": {
      "text/html": [
       "<div>\n",
       "<style scoped>\n",
       "    .dataframe tbody tr th:only-of-type {\n",
       "        vertical-align: middle;\n",
       "    }\n",
       "\n",
       "    .dataframe tbody tr th {\n",
       "        vertical-align: top;\n",
       "    }\n",
       "\n",
       "    .dataframe thead th {\n",
       "        text-align: right;\n",
       "    }\n",
       "</style>\n",
       "<table border=\"1\" class=\"dataframe\">\n",
       "  <thead>\n",
       "    <tr style=\"text-align: right;\">\n",
       "      <th></th>\n",
       "      <th>species</th>\n",
       "      <th>island</th>\n",
       "      <th>bill_length_mm</th>\n",
       "      <th>bill_depth_mm</th>\n",
       "      <th>flipper_length_mm</th>\n",
       "      <th>body_mass_g</th>\n",
       "      <th>sex</th>\n",
       "    </tr>\n",
       "  </thead>\n",
       "  <tbody>\n",
       "    <tr>\n",
       "      <th>0</th>\n",
       "      <td>Adelie</td>\n",
       "      <td>Torgersen</td>\n",
       "      <td>39.1</td>\n",
       "      <td>18.7</td>\n",
       "      <td>181.0</td>\n",
       "      <td>3750.0</td>\n",
       "      <td>Male</td>\n",
       "    </tr>\n",
       "    <tr>\n",
       "      <th>1</th>\n",
       "      <td>Adelie</td>\n",
       "      <td>Torgersen</td>\n",
       "      <td>39.5</td>\n",
       "      <td>17.4</td>\n",
       "      <td>186.0</td>\n",
       "      <td>3800.0</td>\n",
       "      <td>Female</td>\n",
       "    </tr>\n",
       "    <tr>\n",
       "      <th>2</th>\n",
       "      <td>Adelie</td>\n",
       "      <td>Torgersen</td>\n",
       "      <td>40.3</td>\n",
       "      <td>18.0</td>\n",
       "      <td>195.0</td>\n",
       "      <td>3250.0</td>\n",
       "      <td>Female</td>\n",
       "    </tr>\n",
       "    <tr>\n",
       "      <th>3</th>\n",
       "      <td>Adelie</td>\n",
       "      <td>Torgersen</td>\n",
       "      <td>NaN</td>\n",
       "      <td>NaN</td>\n",
       "      <td>NaN</td>\n",
       "      <td>NaN</td>\n",
       "      <td>NaN</td>\n",
       "    </tr>\n",
       "    <tr>\n",
       "      <th>4</th>\n",
       "      <td>Adelie</td>\n",
       "      <td>Torgersen</td>\n",
       "      <td>36.7</td>\n",
       "      <td>19.3</td>\n",
       "      <td>193.0</td>\n",
       "      <td>3450.0</td>\n",
       "      <td>Female</td>\n",
       "    </tr>\n",
       "  </tbody>\n",
       "</table>\n",
       "</div>"
      ],
      "text/plain": [
       "  species     island  bill_length_mm  bill_depth_mm  flipper_length_mm  \\\n",
       "0  Adelie  Torgersen            39.1           18.7              181.0   \n",
       "1  Adelie  Torgersen            39.5           17.4              186.0   \n",
       "2  Adelie  Torgersen            40.3           18.0              195.0   \n",
       "3  Adelie  Torgersen             NaN            NaN                NaN   \n",
       "4  Adelie  Torgersen            36.7           19.3              193.0   \n",
       "\n",
       "   body_mass_g     sex  \n",
       "0       3750.0    Male  \n",
       "1       3800.0  Female  \n",
       "2       3250.0  Female  \n",
       "3          NaN     NaN  \n",
       "4       3450.0  Female  "
      ]
     },
     "execution_count": 3,
     "metadata": {},
     "output_type": "execute_result"
    }
   ],
   "source": [
    "df_all.head()"
   ]
  },
  {
   "cell_type": "markdown",
   "metadata": {
    "ExecuteTime": {
     "end_time": "2020-11-15T16:40:32.620246Z",
     "start_time": "2020-11-15T16:40:32.613178Z"
    }
   },
   "source": [
    "## Filtro de nuestro caso de uso"
   ]
  },
  {
   "cell_type": "markdown",
   "metadata": {},
   "source": [
    "En nuestro caso aplicamos el caso de uso de una determinada isla. Vosotros/as para el datasets tendréis que usar un par de datasets, fijando los atributos deseados. "
   ]
  },
  {
   "cell_type": "code",
   "execution_count": 4,
   "metadata": {
    "ExecuteTime": {
     "end_time": "2020-11-18T10:13:26.516936Z",
     "start_time": "2020-11-18T10:13:26.498515Z"
    }
   },
   "outputs": [
    {
     "data": {
      "text/plain": [
       "array(['Torgersen', 'Biscoe', 'Dream'], dtype=object)"
      ]
     },
     "execution_count": 4,
     "metadata": {},
     "output_type": "execute_result"
    }
   ],
   "source": [
    "df_all.island.unique()"
   ]
  },
  {
   "cell_type": "code",
   "execution_count": 5,
   "metadata": {
    "ExecuteTime": {
     "end_time": "2020-11-18T10:13:26.546408Z",
     "start_time": "2020-11-18T10:13:26.520071Z"
    }
   },
   "outputs": [],
   "source": [
    "df = df_all[df_all.island == 'Dream']\n",
    "df = df[df.sex == 'Female']"
   ]
  },
  {
   "cell_type": "markdown",
   "metadata": {},
   "source": [
    "Voy a aplicar clustering. Para ello voy a utilizar únicamente los valores numéricos."
   ]
  },
  {
   "cell_type": "code",
   "execution_count": 7,
   "metadata": {
    "ExecuteTime": {
     "end_time": "2020-11-18T10:13:26.573259Z",
     "start_time": "2020-11-18T10:13:26.548590Z"
    }
   },
   "outputs": [],
   "source": [
    "atributos = ['bill_length_mm', 'bill_depth_mm', 'flipper_length_mm', 'body_mass_g']"
   ]
  },
  {
   "cell_type": "markdown",
   "metadata": {},
   "source": [
    "Cargo las funciones de utilidad"
   ]
  },
  {
   "cell_type": "code",
   "execution_count": 9,
   "metadata": {
    "ExecuteTime": {
     "end_time": "2020-11-18T10:13:26.865103Z",
     "start_time": "2020-11-18T10:13:26.578519Z"
    }
   },
   "outputs": [],
   "source": [
    "from pract2_utils import *"
   ]
  },
  {
   "cell_type": "code",
   "execution_count": 11,
   "metadata": {
    "ExecuteTime": {
     "end_time": "2020-11-18T10:13:26.899158Z",
     "start_time": "2020-11-18T10:13:26.867223Z"
    }
   },
   "outputs": [
    {
     "data": {
      "text/html": [
       "<div>\n",
       "<style scoped>\n",
       "    .dataframe tbody tr th:only-of-type {\n",
       "        vertical-align: middle;\n",
       "    }\n",
       "\n",
       "    .dataframe tbody tr th {\n",
       "        vertical-align: top;\n",
       "    }\n",
       "\n",
       "    .dataframe thead th {\n",
       "        text-align: right;\n",
       "    }\n",
       "</style>\n",
       "<table border=\"1\" class=\"dataframe\">\n",
       "  <thead>\n",
       "    <tr style=\"text-align: right;\">\n",
       "      <th></th>\n",
       "      <th>species</th>\n",
       "      <th>island</th>\n",
       "      <th>bill_length_mm</th>\n",
       "      <th>bill_depth_mm</th>\n",
       "      <th>flipper_length_mm</th>\n",
       "      <th>body_mass_g</th>\n",
       "      <th>sex</th>\n",
       "    </tr>\n",
       "  </thead>\n",
       "  <tbody>\n",
       "    <tr>\n",
       "      <th>30</th>\n",
       "      <td>Adelie</td>\n",
       "      <td>Dream</td>\n",
       "      <td>39.5</td>\n",
       "      <td>16.7</td>\n",
       "      <td>178.0</td>\n",
       "      <td>3250.0</td>\n",
       "      <td>Female</td>\n",
       "    </tr>\n",
       "    <tr>\n",
       "      <th>32</th>\n",
       "      <td>Adelie</td>\n",
       "      <td>Dream</td>\n",
       "      <td>39.5</td>\n",
       "      <td>17.8</td>\n",
       "      <td>188.0</td>\n",
       "      <td>3300.0</td>\n",
       "      <td>Female</td>\n",
       "    </tr>\n",
       "    <tr>\n",
       "      <th>34</th>\n",
       "      <td>Adelie</td>\n",
       "      <td>Dream</td>\n",
       "      <td>36.4</td>\n",
       "      <td>17.0</td>\n",
       "      <td>195.0</td>\n",
       "      <td>3325.0</td>\n",
       "      <td>Female</td>\n",
       "    </tr>\n",
       "    <tr>\n",
       "      <th>37</th>\n",
       "      <td>Adelie</td>\n",
       "      <td>Dream</td>\n",
       "      <td>42.2</td>\n",
       "      <td>18.5</td>\n",
       "      <td>180.0</td>\n",
       "      <td>3550.0</td>\n",
       "      <td>Female</td>\n",
       "    </tr>\n",
       "    <tr>\n",
       "      <th>38</th>\n",
       "      <td>Adelie</td>\n",
       "      <td>Dream</td>\n",
       "      <td>37.6</td>\n",
       "      <td>19.3</td>\n",
       "      <td>181.0</td>\n",
       "      <td>3300.0</td>\n",
       "      <td>Female</td>\n",
       "    </tr>\n",
       "    <tr>\n",
       "      <th>...</th>\n",
       "      <td>...</td>\n",
       "      <td>...</td>\n",
       "      <td>...</td>\n",
       "      <td>...</td>\n",
       "      <td>...</td>\n",
       "      <td>...</td>\n",
       "      <td>...</td>\n",
       "    </tr>\n",
       "    <tr>\n",
       "      <th>211</th>\n",
       "      <td>Chinstrap</td>\n",
       "      <td>Dream</td>\n",
       "      <td>45.6</td>\n",
       "      <td>19.4</td>\n",
       "      <td>194.0</td>\n",
       "      <td>3525.0</td>\n",
       "      <td>Female</td>\n",
       "    </tr>\n",
       "    <tr>\n",
       "      <th>213</th>\n",
       "      <td>Chinstrap</td>\n",
       "      <td>Dream</td>\n",
       "      <td>46.8</td>\n",
       "      <td>16.5</td>\n",
       "      <td>189.0</td>\n",
       "      <td>3650.0</td>\n",
       "      <td>Female</td>\n",
       "    </tr>\n",
       "    <tr>\n",
       "      <th>214</th>\n",
       "      <td>Chinstrap</td>\n",
       "      <td>Dream</td>\n",
       "      <td>45.7</td>\n",
       "      <td>17.0</td>\n",
       "      <td>195.0</td>\n",
       "      <td>3650.0</td>\n",
       "      <td>Female</td>\n",
       "    </tr>\n",
       "    <tr>\n",
       "      <th>216</th>\n",
       "      <td>Chinstrap</td>\n",
       "      <td>Dream</td>\n",
       "      <td>43.5</td>\n",
       "      <td>18.1</td>\n",
       "      <td>202.0</td>\n",
       "      <td>3400.0</td>\n",
       "      <td>Female</td>\n",
       "    </tr>\n",
       "    <tr>\n",
       "      <th>219</th>\n",
       "      <td>Chinstrap</td>\n",
       "      <td>Dream</td>\n",
       "      <td>50.2</td>\n",
       "      <td>18.7</td>\n",
       "      <td>198.0</td>\n",
       "      <td>3775.0</td>\n",
       "      <td>Female</td>\n",
       "    </tr>\n",
       "  </tbody>\n",
       "</table>\n",
       "<p>61 rows × 7 columns</p>\n",
       "</div>"
      ],
      "text/plain": [
       "       species island  bill_length_mm  bill_depth_mm  flipper_length_mm  \\\n",
       "30      Adelie  Dream            39.5           16.7              178.0   \n",
       "32      Adelie  Dream            39.5           17.8              188.0   \n",
       "34      Adelie  Dream            36.4           17.0              195.0   \n",
       "37      Adelie  Dream            42.2           18.5              180.0   \n",
       "38      Adelie  Dream            37.6           19.3              181.0   \n",
       "..         ...    ...             ...            ...                ...   \n",
       "211  Chinstrap  Dream            45.6           19.4              194.0   \n",
       "213  Chinstrap  Dream            46.8           16.5              189.0   \n",
       "214  Chinstrap  Dream            45.7           17.0              195.0   \n",
       "216  Chinstrap  Dream            43.5           18.1              202.0   \n",
       "219  Chinstrap  Dream            50.2           18.7              198.0   \n",
       "\n",
       "     body_mass_g     sex  \n",
       "30        3250.0  Female  \n",
       "32        3300.0  Female  \n",
       "34        3325.0  Female  \n",
       "37        3550.0  Female  \n",
       "38        3300.0  Female  \n",
       "..           ...     ...  \n",
       "211       3525.0  Female  \n",
       "213       3650.0  Female  \n",
       "214       3650.0  Female  \n",
       "216       3400.0  Female  \n",
       "219       3775.0  Female  \n",
       "\n",
       "[61 rows x 7 columns]"
      ]
     },
     "execution_count": 11,
     "metadata": {},
     "output_type": "execute_result"
    }
   ],
   "source": [
    "df"
   ]
  },
  {
   "cell_type": "markdown",
   "metadata": {},
   "source": [
    "Esta función nos permite convertir los atributos deseados en una matrix."
   ]
  },
  {
   "cell_type": "code",
   "execution_count": 47,
   "metadata": {
    "ExecuteTime": {
     "end_time": "2020-11-18T10:13:26.929352Z",
     "start_time": "2020-11-18T10:13:26.901604Z"
    }
   },
   "outputs": [],
   "source": [
    "data = to_matrix(df, atributos)"
   ]
  },
  {
   "cell_type": "markdown",
   "metadata": {},
   "source": [
    "Vamos a ver las primeras filas"
   ]
  },
  {
   "cell_type": "code",
   "execution_count": 13,
   "metadata": {
    "ExecuteTime": {
     "end_time": "2020-11-18T10:13:26.950669Z",
     "start_time": "2020-11-18T10:13:26.931160Z"
    }
   },
   "outputs": [
    {
     "data": {
      "text/plain": [
       "array([[  39.5,   16.7,  178. , 3250. ],\n",
       "       [  39.5,   17.8,  188. , 3300. ],\n",
       "       [  36.4,   17. ,  195. , 3325. ],\n",
       "       [  42.2,   18.5,  180. , 3550. ],\n",
       "       [  37.6,   19.3,  181. , 3300. ]])"
      ]
     },
     "execution_count": 13,
     "metadata": {},
     "output_type": "execute_result"
    }
   ],
   "source": [
    "data[:5]"
   ]
  },
  {
   "cell_type": "markdown",
   "metadata": {},
   "source": [
    "## Normalizar los datos"
   ]
  },
  {
   "cell_type": "markdown",
   "metadata": {},
   "source": [
    "Para aplicar los métodos de clustering es normal normalizar los datos, vamos a usar nuestra propia función (para luego poder desnormalizar en la gráfica)."
   ]
  },
  {
   "cell_type": "code",
   "execution_count": 46,
   "metadata": {
    "ExecuteTime": {
     "end_time": "2020-11-18T10:13:26.971984Z",
     "start_time": "2020-11-18T10:13:26.952842Z"
    }
   },
   "outputs": [],
   "source": [
    "data_norm = norm(data)"
   ]
  },
  {
   "cell_type": "code",
   "execution_count": 17,
   "metadata": {
    "ExecuteTime": {
     "end_time": "2020-11-18T10:13:26.996545Z",
     "start_time": "2020-11-18T10:13:26.975054Z"
    }
   },
   "outputs": [
    {
     "data": {
      "text/plain": [
       "array([[  39.5,   16.7,  178. , 3250. ],\n",
       "       [  39.5,   17.8,  188. , 3300. ],\n",
       "       [  36.4,   17. ,  195. , 3325. ],\n",
       "       [  42.2,   18.5,  180. , 3550. ],\n",
       "       [  37.6,   19.3,  181. , 3300. ]])"
      ]
     },
     "execution_count": 17,
     "metadata": {},
     "output_type": "execute_result"
    }
   ],
   "source": [
    "data[:5]"
   ]
  },
  {
   "cell_type": "code",
   "execution_count": 18,
   "metadata": {
    "ExecuteTime": {
     "end_time": "2020-11-18T10:13:27.018182Z",
     "start_time": "2020-11-18T10:13:26.998845Z"
    }
   },
   "outputs": [
    {
     "data": {
      "text/plain": [
       "array([[0.28571429, 0.30769231, 0.        , 0.37931034],\n",
       "       [0.28571429, 0.58974359, 0.41666667, 0.4137931 ],\n",
       "       [0.16602317, 0.38461538, 0.70833333, 0.43103448],\n",
       "       [0.38996139, 0.76923077, 0.08333333, 0.5862069 ],\n",
       "       [0.21235521, 0.97435897, 0.125     , 0.4137931 ]])"
      ]
     },
     "execution_count": 18,
     "metadata": {},
     "output_type": "execute_result"
    }
   ],
   "source": [
    "data_norm[:5]"
   ]
  },
  {
   "cell_type": "code",
   "execution_count": 19,
   "metadata": {
    "ExecuteTime": {
     "end_time": "2020-11-18T10:13:27.048382Z",
     "start_time": "2020-11-18T10:13:27.021967Z"
    }
   },
   "outputs": [
    {
     "data": {
      "text/plain": [
       "array([[0.28571429, 0.30769231, 0.        , 0.37931034],\n",
       "       [0.28571429, 0.58974359, 0.41666667, 0.4137931 ],\n",
       "       [0.16602317, 0.38461538, 0.70833333, 0.43103448],\n",
       "       [0.38996139, 0.76923077, 0.08333333, 0.5862069 ],\n",
       "       [0.21235521, 0.97435897, 0.125     , 0.4137931 ],\n",
       "       [0.16988417, 0.64102564, 0.16666667, 0.31034483],\n",
       "       [0.15057915, 0.76923077, 0.33333333, 0.27586207],\n",
       "       [0.18918919, 0.35897436, 0.29166667, 0.20689655],\n",
       "       [0.15057915, 0.61538462, 0.5       , 0.51724138],\n",
       "       [0.2007722 , 0.58974359, 0.54166667, 0.44827586],\n",
       "       [0.18532819, 0.79487179, 0.45833333, 0.55172414],\n",
       "       [0.26254826, 0.84615385, 0.5       , 0.62068966],\n",
       "       [0.13899614, 0.64102564, 1.        , 0.5862069 ],\n",
       "       [0.07335907, 0.41025641, 0.29166667, 0.48275862],\n",
       "       [0.15830116, 0.46153846, 0.375     , 0.4137931 ],\n",
       "       [0.23166023, 0.79487179, 0.5       , 0.68965517],\n",
       "       [0.03861004, 0.15384615, 0.        , 0.13793103],\n",
       "       [0.18146718, 0.76923077, 0.625     , 0.55172414],\n",
       "       [0.23166023, 0.53846154, 0.375     , 0.5       ],\n",
       "       [0.13513514, 0.51282051, 0.54166667, 0.32758621],\n",
       "       [0.18918919, 0.25641026, 0.29166667, 0.48275862],\n",
       "       [0.31274131, 0.41025641, 0.625     , 0.48275862],\n",
       "       [0.        , 0.        , 0.41666667, 0.24137931],\n",
       "       [0.2007722 , 0.33333333, 0.58333333, 0.20689655],\n",
       "       [0.17374517, 0.74358974, 0.25      , 0.53448276],\n",
       "       [0.15057915, 0.58974359, 0.70833333, 0.51724138],\n",
       "       [0.15057915, 0.41025641, 0.375     , 0.68965517],\n",
       "       [0.55598456, 0.61538462, 0.58333333, 0.55172414],\n",
       "       [0.51351351, 0.82051282, 0.41666667, 0.56896552],\n",
       "       [0.50579151, 0.58974359, 0.83333333, 0.86206897],\n",
       "       [0.54054054, 0.69230769, 0.        , 0.37931034],\n",
       "       [0.53667954, 0.87179487, 0.70833333, 1.        ],\n",
       "       [0.55984556, 0.58974359, 0.625     , 0.75862069],\n",
       "       [0.57528958, 0.46153846, 0.29166667, 0.68965517],\n",
       "       [0.53281853, 0.41025641, 0.5       , 0.60344828],\n",
       "       [1.        , 0.58974359, 0.125     , 0.68965517],\n",
       "       [0.55212355, 0.79487179, 0.5       , 0.51724138],\n",
       "       [0.3976834 , 0.46153846, 0.125     , 0.62068966],\n",
       "       [0.42857143, 0.28205128, 0.375     , 0.13793103],\n",
       "       [0.56370656, 0.61538462, 0.70833333, 0.4137931 ],\n",
       "       [0.71042471, 0.74358974, 0.91666667, 0.48275862],\n",
       "       [0.55212355, 0.58974359, 0.54166667, 0.68965517],\n",
       "       [0.33976834, 0.28205128, 0.375     , 0.34482759],\n",
       "       [0.4015444 , 0.30769231, 0.375     , 0.44827586],\n",
       "       [0.59459459, 0.33333333, 0.875     , 0.82758621],\n",
       "       [0.5984556 , 0.71794872, 0.70833333, 0.79310345],\n",
       "       [0.57142857, 0.28205128, 0.58333333, 0.        ],\n",
       "       [0.54440154, 0.51282051, 0.375     , 0.65517241],\n",
       "       [0.51737452, 0.38461538, 0.75      , 0.55172414],\n",
       "       [0.72586873, 0.61538462, 0.75      , 0.67241379],\n",
       "       [0.69498069, 0.61538462, 0.5       , 0.48275862],\n",
       "       [0.68339768, 0.46153846, 0.83333333, 0.67241379],\n",
       "       [0.61776062, 0.23076923, 0.875     , 0.43103448],\n",
       "       [0.52509653, 0.46153846, 0.625     , 0.62068966],\n",
       "       [0.4015444 , 0.46153846, 0.375     , 0.44827586],\n",
       "       [0.50579151, 0.28205128, 0.54166667, 0.37931034],\n",
       "       [0.52123552, 1.        , 0.66666667, 0.56896552],\n",
       "       [0.56756757, 0.25641026, 0.45833333, 0.65517241],\n",
       "       [0.52509653, 0.38461538, 0.70833333, 0.65517241],\n",
       "       [0.44015444, 0.66666667, 1.        , 0.48275862],\n",
       "       [0.6988417 , 0.82051282, 0.83333333, 0.74137931]])"
      ]
     },
     "execution_count": 19,
     "metadata": {},
     "output_type": "execute_result"
    }
   ],
   "source": [
    "data_norm"
   ]
  },
  {
   "cell_type": "markdown",
   "metadata": {
    "ExecuteTime": {
     "end_time": "2020-11-15T16:38:27.875085Z",
     "start_time": "2020-11-15T16:38:27.866485Z"
    }
   },
   "source": [
    "## Aplico el k-means"
   ]
  },
  {
   "cell_type": "markdown",
   "metadata": {},
   "source": [
    "Voy a aplicar un único k-means, vosotros tendríais que aplicar un estudio de parámetros, y además otro algoritmo más."
   ]
  },
  {
   "cell_type": "code",
   "execution_count": 20,
   "metadata": {
    "ExecuteTime": {
     "end_time": "2020-11-18T10:13:27.246192Z",
     "start_time": "2020-11-18T10:13:27.050740Z"
    }
   },
   "outputs": [],
   "source": [
    "from sklearn.cluster import KMeans"
   ]
  },
  {
   "cell_type": "code",
   "execution_count": 21,
   "metadata": {
    "ExecuteTime": {
     "end_time": "2020-11-18T10:13:27.308855Z",
     "start_time": "2020-11-18T10:13:27.248383Z"
    }
   },
   "outputs": [],
   "source": [
    "results = KMeans(n_clusters=3, random_state=0).fit(data_norm)"
   ]
  },
  {
   "cell_type": "code",
   "execution_count": 22,
   "metadata": {
    "ExecuteTime": {
     "end_time": "2020-11-18T10:13:27.320596Z",
     "start_time": "2020-11-18T10:13:27.314813Z"
    }
   },
   "outputs": [
    {
     "data": {
      "text/plain": [
       "array([2, 0, 2, 0, 0, 0, 0, 2, 0, 0, 0, 0, 1, 2, 2, 0, 2, 0, 0, 2, 2, 2,\n",
       "       2, 2, 0, 0, 2, 1, 0, 1, 0, 1, 1, 1, 1, 1, 1, 0, 2, 1, 1, 1, 2, 2,\n",
       "       1, 1, 2, 1, 1, 1, 1, 1, 1, 1, 2, 2, 1, 1, 1, 1, 1], dtype=int32)"
      ]
     },
     "execution_count": 22,
     "metadata": {},
     "output_type": "execute_result"
    }
   ],
   "source": [
    "results.labels_"
   ]
  },
  {
   "cell_type": "markdown",
   "metadata": {},
   "source": [
    "En los atributos labels_ tengo en un vector las etiquetas de cada fila, y "
   ]
  },
  {
   "cell_type": "code",
   "execution_count": 23,
   "metadata": {
    "ExecuteTime": {
     "end_time": "2020-11-18T10:13:27.339287Z",
     "start_time": "2020-11-18T10:13:27.324011Z"
    }
   },
   "outputs": [],
   "source": [
    "labels = results.labels_"
   ]
  },
  {
   "cell_type": "code",
   "execution_count": 24,
   "metadata": {
    "ExecuteTime": {
     "end_time": "2020-11-18T10:16:46.682585Z",
     "start_time": "2020-11-18T10:16:46.676843Z"
    }
   },
   "outputs": [],
   "source": [
    "centroids = results.cluster_centers_"
   ]
  },
  {
   "cell_type": "markdown",
   "metadata": {},
   "source": [
    "## Obtengo la medida"
   ]
  },
  {
   "cell_type": "code",
   "execution_count": 26,
   "metadata": {
    "ExecuteTime": {
     "end_time": "2020-11-18T10:13:27.393074Z",
     "start_time": "2020-11-18T10:13:27.367959Z"
    }
   },
   "outputs": [
    {
     "name": "stdout",
     "output_type": "stream",
     "text": [
      "silhouette: 0.237120\n",
      "calinsky: 23.640255\n"
     ]
    }
   ],
   "source": [
    "silhouette, calinski = measures_silhoutte_calinski(data_norm, labels)\n",
    "\n",
    "print(\"silhouette: {:3f}\".format(silhouette))\n",
    "print(\"calinsky: {:3f}\".format(calinski))"
   ]
  },
  {
   "cell_type": "markdown",
   "metadata": {},
   "source": [
    "## Visualizo los centroides"
   ]
  },
  {
   "cell_type": "code",
   "execution_count": 27,
   "metadata": {
    "ExecuteTime": {
     "end_time": "2020-11-18T10:13:27.932552Z",
     "start_time": "2020-11-18T10:13:27.396809Z"
    }
   },
   "outputs": [
    {
     "data": {
      "text/plain": [
       "<matplotlib.axes._subplots.AxesSubplot at 0x7fa4dd8f4b38>"
      ]
     },
     "execution_count": 27,
     "metadata": {},
     "output_type": "execute_result"
    },
    {
     "data": {
      "image/png": "[encoded data removed]",
      "text/plain": [
       "<Figure size 432x288 with 2 Axes>"
      ]
     },
     "metadata": {},
     "output_type": "display_data"
    }
   ],
   "source": [
    "visualize_centroids(centroids, data, atributos)"
   ]
  },
  {
   "cell_type": "code",
   "execution_count": 30,
   "metadata": {
    "ExecuteTime": {
     "end_time": "2020-11-18T10:13:33.531907Z",
     "start_time": "2020-11-18T10:13:27.939753Z"
    }
   },
   "outputs": [
    {
     "data": {
      "image/png": "[encoded data removed]",
      "text/plain": [
       "<Figure size 762.375x720 with 20 Axes>"
      ]
     },
     "metadata": {},
     "output_type": "display_data"
    }
   ],
   "source": [
    "pairplot(df, atributos, labels)"
   ]
  },
  {
   "cell_type": "markdown",
   "metadata": {
    "ExecuteTime": {
     "end_time": "2020-11-18T10:19:42.186008Z",
     "start_time": "2020-11-18T10:19:42.180258Z"
    }
   },
   "source": [
    "## Viendo el balanceo de los distintos clustering"
   ]
  },
  {
   "cell_type": "markdown",
   "metadata": {},
   "source": [
    "Vamos a ver cómo se distribuyen"
   ]
  },
  {
   "cell_type": "code",
   "execution_count": 31,
   "metadata": {
    "ExecuteTime": {
     "end_time": "2020-11-18T10:18:13.470226Z",
     "start_time": "2020-11-18T10:18:13.464535Z"
    }
   },
   "outputs": [],
   "source": [
    "from collections import Counter"
   ]
  },
  {
   "cell_type": "code",
   "execution_count": 32,
   "metadata": {
    "ExecuteTime": {
     "end_time": "2020-11-18T10:18:27.736554Z",
     "start_time": "2020-11-18T10:18:27.729499Z"
    }
   },
   "outputs": [
    {
     "data": {
      "text/plain": [
       "Counter({0: 17, 1: 26, 2: 18})"
      ]
     },
     "execution_count": 32,
     "metadata": {},
     "output_type": "execute_result"
    }
   ],
   "source": [
    "Counter(labels)"
   ]
  },
  {
   "cell_type": "markdown",
   "metadata": {
    "ExecuteTime": {
     "end_time": "2020-11-18T10:18:52.487996Z",
     "start_time": "2020-11-18T10:18:52.479608Z"
    }
   },
   "source": [
    "De un cluster hay bastante más que de los otros dos, que están mucho más parejos."
   ]
  },
  {
   "cell_type": "markdown",
   "metadata": {},
   "source": [
    "# Calculo de Centroides _a mano_"
   ]
  },
  {
   "cell_type": "markdown",
   "metadata": {},
   "source": [
    "¿Y si no tuviese los centroides?"
   ]
  },
  {
   "cell_type": "markdown",
   "metadata": {},
   "source": [
    "Vamos a calcularlos a mano."
   ]
  },
  {
   "cell_type": "markdown",
   "metadata": {},
   "source": [
    "Primeros creamos un dataframe a partir de los datos normalizados"
   ]
  },
  {
   "cell_type": "code",
   "execution_count": 33,
   "metadata": {
    "ExecuteTime": {
     "end_time": "2020-11-18T10:13:33.543880Z",
     "start_time": "2020-11-18T10:13:33.537428Z"
    }
   },
   "outputs": [],
   "source": [
    "df_data = pd.DataFrame(data_norm)"
   ]
  },
  {
   "cell_type": "markdown",
   "metadata": {},
   "source": [
    "Ahora le asignamos sus nombres de atributos "
   ]
  },
  {
   "cell_type": "code",
   "execution_count": 34,
   "metadata": {
    "ExecuteTime": {
     "end_time": "2020-11-18T10:13:33.591120Z",
     "start_time": "2020-11-18T10:13:33.545805Z"
    }
   },
   "outputs": [],
   "source": [
    "df_data.columns = atributos"
   ]
  },
  {
   "cell_type": "code",
   "execution_count": 35,
   "metadata": {
    "ExecuteTime": {
     "end_time": "2020-11-18T10:13:33.626388Z",
     "start_time": "2020-11-18T10:13:33.592967Z"
    }
   },
   "outputs": [
    {
     "data": {
      "text/html": [
       "<div>\n",
       "<style scoped>\n",
       "    .dataframe tbody tr th:only-of-type {\n",
       "        vertical-align: middle;\n",
       "    }\n",
       "\n",
       "    .dataframe tbody tr th {\n",
       "        vertical-align: top;\n",
       "    }\n",
       "\n",
       "    .dataframe thead th {\n",
       "        text-align: right;\n",
       "    }\n",
       "</style>\n",
       "<table border=\"1\" class=\"dataframe\">\n",
       "  <thead>\n",
       "    <tr style=\"text-align: right;\">\n",
       "      <th></th>\n",
       "      <th>bill_length_mm</th>\n",
       "      <th>bill_depth_mm</th>\n",
       "      <th>flipper_length_mm</th>\n",
       "      <th>body_mass_g</th>\n",
       "    </tr>\n",
       "  </thead>\n",
       "  <tbody>\n",
       "    <tr>\n",
       "      <th>0</th>\n",
       "      <td>0.285714</td>\n",
       "      <td>0.307692</td>\n",
       "      <td>0.000000</td>\n",
       "      <td>0.379310</td>\n",
       "    </tr>\n",
       "    <tr>\n",
       "      <th>1</th>\n",
       "      <td>0.285714</td>\n",
       "      <td>0.589744</td>\n",
       "      <td>0.416667</td>\n",
       "      <td>0.413793</td>\n",
       "    </tr>\n",
       "    <tr>\n",
       "      <th>2</th>\n",
       "      <td>0.166023</td>\n",
       "      <td>0.384615</td>\n",
       "      <td>0.708333</td>\n",
       "      <td>0.431034</td>\n",
       "    </tr>\n",
       "    <tr>\n",
       "      <th>3</th>\n",
       "      <td>0.389961</td>\n",
       "      <td>0.769231</td>\n",
       "      <td>0.083333</td>\n",
       "      <td>0.586207</td>\n",
       "    </tr>\n",
       "    <tr>\n",
       "      <th>4</th>\n",
       "      <td>0.212355</td>\n",
       "      <td>0.974359</td>\n",
       "      <td>0.125000</td>\n",
       "      <td>0.413793</td>\n",
       "    </tr>\n",
       "  </tbody>\n",
       "</table>\n",
       "</div>"
      ],
      "text/plain": [
       "   bill_length_mm  bill_depth_mm  flipper_length_mm  body_mass_g\n",
       "0        0.285714       0.307692           0.000000     0.379310\n",
       "1        0.285714       0.589744           0.416667     0.413793\n",
       "2        0.166023       0.384615           0.708333     0.431034\n",
       "3        0.389961       0.769231           0.083333     0.586207\n",
       "4        0.212355       0.974359           0.125000     0.413793"
      ]
     },
     "execution_count": 35,
     "metadata": {},
     "output_type": "execute_result"
    }
   ],
   "source": [
    "df_data.head()"
   ]
  },
  {
   "cell_type": "markdown",
   "metadata": {},
   "source": [
    "Le añadimos el cluster como otro atributo"
   ]
  },
  {
   "cell_type": "code",
   "execution_count": 36,
   "metadata": {
    "ExecuteTime": {
     "end_time": "2020-11-18T10:13:33.646986Z",
     "start_time": "2020-11-18T10:13:33.628091Z"
    }
   },
   "outputs": [],
   "source": [
    "df_data['cluster'] = labels"
   ]
  },
  {
   "cell_type": "code",
   "execution_count": 37,
   "metadata": {
    "ExecuteTime": {
     "end_time": "2020-11-18T10:13:33.680358Z",
     "start_time": "2020-11-18T10:13:33.649249Z"
    }
   },
   "outputs": [
    {
     "data": {
      "text/html": [
       "<div>\n",
       "<style scoped>\n",
       "    .dataframe tbody tr th:only-of-type {\n",
       "        vertical-align: middle;\n",
       "    }\n",
       "\n",
       "    .dataframe tbody tr th {\n",
       "        vertical-align: top;\n",
       "    }\n",
       "\n",
       "    .dataframe thead th {\n",
       "        text-align: right;\n",
       "    }\n",
       "</style>\n",
       "<table border=\"1\" class=\"dataframe\">\n",
       "  <thead>\n",
       "    <tr style=\"text-align: right;\">\n",
       "      <th></th>\n",
       "      <th>bill_length_mm</th>\n",
       "      <th>bill_depth_mm</th>\n",
       "      <th>flipper_length_mm</th>\n",
       "      <th>body_mass_g</th>\n",
       "      <th>cluster</th>\n",
       "    </tr>\n",
       "  </thead>\n",
       "  <tbody>\n",
       "    <tr>\n",
       "      <th>0</th>\n",
       "      <td>0.285714</td>\n",
       "      <td>0.307692</td>\n",
       "      <td>0.000000</td>\n",
       "      <td>0.379310</td>\n",
       "      <td>2</td>\n",
       "    </tr>\n",
       "    <tr>\n",
       "      <th>1</th>\n",
       "      <td>0.285714</td>\n",
       "      <td>0.589744</td>\n",
       "      <td>0.416667</td>\n",
       "      <td>0.413793</td>\n",
       "      <td>0</td>\n",
       "    </tr>\n",
       "    <tr>\n",
       "      <th>2</th>\n",
       "      <td>0.166023</td>\n",
       "      <td>0.384615</td>\n",
       "      <td>0.708333</td>\n",
       "      <td>0.431034</td>\n",
       "      <td>2</td>\n",
       "    </tr>\n",
       "    <tr>\n",
       "      <th>3</th>\n",
       "      <td>0.389961</td>\n",
       "      <td>0.769231</td>\n",
       "      <td>0.083333</td>\n",
       "      <td>0.586207</td>\n",
       "      <td>0</td>\n",
       "    </tr>\n",
       "    <tr>\n",
       "      <th>4</th>\n",
       "      <td>0.212355</td>\n",
       "      <td>0.974359</td>\n",
       "      <td>0.125000</td>\n",
       "      <td>0.413793</td>\n",
       "      <td>0</td>\n",
       "    </tr>\n",
       "  </tbody>\n",
       "</table>\n",
       "</div>"
      ],
      "text/plain": [
       "   bill_length_mm  bill_depth_mm  flipper_length_mm  body_mass_g  cluster\n",
       "0        0.285714       0.307692           0.000000     0.379310        2\n",
       "1        0.285714       0.589744           0.416667     0.413793        0\n",
       "2        0.166023       0.384615           0.708333     0.431034        2\n",
       "3        0.389961       0.769231           0.083333     0.586207        0\n",
       "4        0.212355       0.974359           0.125000     0.413793        0"
      ]
     },
     "execution_count": 37,
     "metadata": {},
     "output_type": "execute_result"
    }
   ],
   "source": [
    "df_data.head()"
   ]
  },
  {
   "cell_type": "code",
   "execution_count": 38,
   "metadata": {
    "ExecuteTime": {
     "end_time": "2020-11-18T10:13:33.707220Z",
     "start_time": "2020-11-18T10:13:33.683164Z"
    }
   },
   "outputs": [],
   "source": [
    "df_centroides = df_data.groupby('cluster').mean()"
   ]
  },
  {
   "cell_type": "code",
   "execution_count": 39,
   "metadata": {
    "ExecuteTime": {
     "end_time": "2020-11-18T10:13:33.742535Z",
     "start_time": "2020-11-18T10:13:33.709900Z"
    }
   },
   "outputs": [
    {
     "data": {
      "text/html": [
       "<div>\n",
       "<style scoped>\n",
       "    .dataframe tbody tr th:only-of-type {\n",
       "        vertical-align: middle;\n",
       "    }\n",
       "\n",
       "    .dataframe tbody tr th {\n",
       "        vertical-align: top;\n",
       "    }\n",
       "\n",
       "    .dataframe thead th {\n",
       "        text-align: right;\n",
       "    }\n",
       "</style>\n",
       "<table border=\"1\" class=\"dataframe\">\n",
       "  <thead>\n",
       "    <tr style=\"text-align: right;\">\n",
       "      <th></th>\n",
       "      <th>bill_length_mm</th>\n",
       "      <th>bill_depth_mm</th>\n",
       "      <th>flipper_length_mm</th>\n",
       "      <th>body_mass_g</th>\n",
       "    </tr>\n",
       "    <tr>\n",
       "      <th>cluster</th>\n",
       "      <th></th>\n",
       "      <th></th>\n",
       "      <th></th>\n",
       "      <th></th>\n",
       "    </tr>\n",
       "  </thead>\n",
       "  <tbody>\n",
       "    <tr>\n",
       "      <th>0</th>\n",
       "      <td>0.260504</td>\n",
       "      <td>0.705882</td>\n",
       "      <td>0.360294</td>\n",
       "      <td>0.500000</td>\n",
       "    </tr>\n",
       "    <tr>\n",
       "      <th>1</th>\n",
       "      <td>0.578408</td>\n",
       "      <td>0.575937</td>\n",
       "      <td>0.665064</td>\n",
       "      <td>0.640584</td>\n",
       "    </tr>\n",
       "    <tr>\n",
       "      <th>2</th>\n",
       "      <td>0.252681</td>\n",
       "      <td>0.327635</td>\n",
       "      <td>0.395833</td>\n",
       "      <td>0.346743</td>\n",
       "    </tr>\n",
       "  </tbody>\n",
       "</table>\n",
       "</div>"
      ],
      "text/plain": [
       "         bill_length_mm  bill_depth_mm  flipper_length_mm  body_mass_g\n",
       "cluster                                                               \n",
       "0              0.260504       0.705882           0.360294     0.500000\n",
       "1              0.578408       0.575937           0.665064     0.640584\n",
       "2              0.252681       0.327635           0.395833     0.346743"
      ]
     },
     "execution_count": 39,
     "metadata": {},
     "output_type": "execute_result"
    }
   ],
   "source": [
    "df_centroides"
   ]
  },
  {
   "cell_type": "code",
   "execution_count": 40,
   "metadata": {
    "ExecuteTime": {
     "end_time": "2020-11-18T10:13:33.770772Z",
     "start_time": "2020-11-18T10:13:33.745632Z"
    }
   },
   "outputs": [
    {
     "data": {
      "text/plain": [
       "array([[0.2605042 , 0.70588235, 0.36029412, 0.5       ],\n",
       "       [0.57840808, 0.57593688, 0.6650641 , 0.64058355],\n",
       "       [0.25268125, 0.32763533, 0.39583333, 0.3467433 ]])"
      ]
     },
     "execution_count": 40,
     "metadata": {},
     "output_type": "execute_result"
    }
   ],
   "source": [
    "centroids"
   ]
  },
  {
   "cell_type": "markdown",
   "metadata": {
    "ExecuteTime": {
     "end_time": "2020-11-18T09:40:27.698422Z",
     "start_time": "2020-11-18T09:40:27.690188Z"
    }
   },
   "source": [
    "Si los queremos de igual forma podemos hacer:"
   ]
  },
  {
   "cell_type": "code",
   "execution_count": 41,
   "metadata": {
    "ExecuteTime": {
     "end_time": "2020-11-18T10:14:30.813575Z",
     "start_time": "2020-11-18T10:14:30.804535Z"
    }
   },
   "outputs": [],
   "source": [
    "centroides = df_centroides.values"
   ]
  },
  {
   "cell_type": "code",
   "execution_count": 42,
   "metadata": {
    "ExecuteTime": {
     "end_time": "2020-11-18T10:14:32.244197Z",
     "start_time": "2020-11-18T10:14:32.233465Z"
    }
   },
   "outputs": [
    {
     "data": {
      "text/plain": [
       "array([[0.2605042 , 0.70588235, 0.36029412, 0.5       ],\n",
       "       [0.57840808, 0.57593688, 0.6650641 , 0.64058355],\n",
       "       [0.25268125, 0.32763533, 0.39583333, 0.3467433 ]])"
      ]
     },
     "execution_count": 42,
     "metadata": {},
     "output_type": "execute_result"
    }
   ],
   "source": [
    "centroides"
   ]
  },
  {
   "cell_type": "code",
   "execution_count": 43,
   "metadata": {
    "ExecuteTime": {
     "end_time": "2020-11-18T10:14:36.008256Z",
     "start_time": "2020-11-18T10:14:36.002358Z"
    }
   },
   "outputs": [],
   "source": [
    "import numpy as np"
   ]
  },
  {
   "cell_type": "markdown",
   "metadata": {},
   "source": [
    "Vemos que son equivalentes (son números reales, por eso comparamos que la diferencia sea pequeña en vez de comparar con igualdad)"
   ]
  },
  {
   "cell_type": "code",
   "execution_count": 44,
   "metadata": {
    "ExecuteTime": {
     "end_time": "2020-11-18T10:20:06.386596Z",
     "start_time": "2020-11-18T10:20:06.377201Z"
    }
   },
   "outputs": [
    {
     "data": {
      "text/plain": [
       "True"
      ]
     },
     "execution_count": 44,
     "metadata": {},
     "output_type": "execute_result"
    }
   ],
   "source": [
    "np.all(np.abs(centroids-centroides) < 1e-15)"
   ]
  }
 ],
 "metadata": {
  "@webio": {
   "lastCommId": null,
   "lastKernelId": null
  },
  "jupytext": {
   "formats": "ipynb,md"
  },
  "kernelspec": {
   "display_name": "Python 3",
   "language": "python",
   "name": "python3"
  },
  "language_info": {
   "codemirror_mode": {
    "name": "ipython",
    "version": 3
   },
   "file_extension": ".py",
   "mimetype": "text/x-python",
   "name": "python",
   "nbconvert_exporter": "python",
   "pygments_lexer": "ipython3",
   "version": "3.6.9"
  },
  "toc": {
   "base_numbering": 1,
   "nav_menu": {},
   "number_sections": true,
   "sideBar": true,
   "skip_h1_title": false,
   "title_cell": "Table of Contents",
   "title_sidebar": "Contents",
   "toc_cell": false,
   "toc_position": {},
   "toc_section_display": true,
   "toc_window_display": false
  },
  "varInspector": {
   "cols": {
    "lenName": 16,
    "lenType": 16,
    "lenVar": 40
   },
   "kernels_config": {
    "python": {
     "delete_cmd_postfix": "",
     "delete_cmd_prefix": "del ",
     "library": "var_list.py",
     "varRefreshCmd": "print(var_dic_list())"
    },
    "r": {
     "delete_cmd_postfix": ") ",
     "delete_cmd_prefix": "rm(",
     "library": "var_list.r",
     "varRefreshCmd": "cat(var_dic_list()) "
    }
   },
   "types_to_exclude": [
    "module",
    "function",
    "builtin_function_or_method",
    "instance",
    "_Feature"
   ],
   "window_display": false
  }
 },
 "nbformat": 4,
 "nbformat_minor": 4
}
