{
 "cells": [
  {
   "cell_type": "code",
   "execution_count": 1,
   "metadata": {},
   "outputs": [],
   "source": [
    "import pandas as pd\n",
    "import numpy as np\n",
    "from sklearn.model_selection import cross_val_score\n",
    "from collections import Counter\n",
    "\n",
    "from imblearn.over_sampling import SMOTE\n",
    "\n",
    "from sklearn.decomposition import PCA\n",
    "from sklearn.naive_bayes import GaussianNB\n",
    "\n",
    "from sklearn.preprocessing import LabelEncoder, StandardScaler\n",
    "from sklearn.feature_selection import VarianceThreshold\n",
    "from imblearn.over_sampling import SMOTE"
   ]
  },
  {
   "cell_type": "code",
   "execution_count": 2,
   "metadata": {},
   "outputs": [],
   "source": [
    "DATA='ugrin2020-vehiculo-usado-multiclase/'\n",
    "TRAIN=DATA+'train.csv'\n",
    "TEST=DATA+'test.csv'\n",
    "\n",
    "PREPROCESSED_DATA='preprocessed_data/'\n",
    "RESULTS='results/'"
   ]
  },
  {
   "cell_type": "code",
   "execution_count": 3,
   "metadata": {},
   "outputs": [],
   "source": [
    "VARIANCETHRESHOLD=0"
   ]
  },
  {
   "cell_type": "code",
   "execution_count": 4,
   "metadata": {},
   "outputs": [],
   "source": [
    "NOMBRE=DATA+'nombre.csv'\n",
    "CIUDAD=DATA+'ciudad.csv'\n",
    "COMBUSTIBLE=DATA+'combustible.csv'\n",
    "TIPO_MARCHAS=DATA+'tipo_marchas.csv'\n",
    "\n",
    "def encode(train, test):\n",
    "\n",
    "    le = LabelEncoder()\n",
    "    \n",
    "    #train.Precio_cat=train.Precio_cat.apply(lambda x: float(x))\n",
    "\n",
    "    # Codifico combustibles\n",
    "    le.classes_=['LPG','CNG','Petrol','Diesel']\n",
    "    train.Combustible = le.transform(train.Combustible)\n",
    "    test.Combustible = le.transform(test.Combustible)\n",
    "\n",
    "    le.classes_=['Manual','Automatic']\n",
    "    train.Tipo_marchas = le.transform(train.Tipo_marchas)\n",
    "    test.Tipo_marchas = le.transform(test.Tipo_marchas)\n",
    "\n",
    "    # Codifico manos\n",
    "    le.classes_=['First','Second','Third','Fourth & Above']\n",
    "    train.Mano = le.transform(train.Mano)\n",
    "    test.Mano = le.transform(test.Mano)\n",
    "\n",
    "    # Consumo a numérica\n",
    "    train.Consumo=train.Consumo.apply(lambda x: float(x.split(' ')[0]))\n",
    "    test.Consumo=test.Consumo.apply(lambda x: float(x.split(' ')[0]))\n",
    "    \n",
    "    # CC a numérica\n",
    "    train.Motor_CC=train.Motor_CC.apply(lambda x: float(x.split(' ')[0]))\n",
    "    test.Motor_CC=test.Motor_CC.apply(lambda x: float(x.split(' ')[0]))\n",
    "\n",
    "    # Potencia a numérica\n",
    "    train.Potencia=train.Potencia.apply(lambda x: float(x.split(' ')[0]))\n",
    "    test.Potencia=test.Potencia.apply(lambda x: float(x.split(' ')[0]))\n",
    "\n",
    "    return train, test\n",
    "\n",
    "# Split train label\n",
    "def split(train, test):\n",
    "\n",
    "    train_array = np.array(train)\n",
    "    test_array = np.array(test)\n",
    "\n",
    "    return train_array, test_array\n",
    "\n",
    "def shuffle_in_unison(a, b):\n",
    "    rng_state = np.random.get_state()\n",
    "    np.random.shuffle(a)\n",
    "    np.random.set_state(rng_state)\n",
    "    np.random.shuffle(b)\n",
    "    \n",
    "# Normalización\n",
    "def scale(train, test):\n",
    "\n",
    "    # Estandarizamos los datos\n",
    "    selector = VarianceThreshold(VARIANCETHRESHOLD) # No podemos estandarizar datos con varianza nula\n",
    "    std = StandardScaler()\n",
    "\n",
    "    selector.fit(train)\n",
    "    train=selector.transform(train)\n",
    "    test=selector.transform(test)\n",
    "\n",
    "    std.fit(train)\n",
    "    train=std.transform(train)\n",
    "    test=std.transform(test)\n",
    "    \n",
    "    return train, test"
   ]
  },
  {
   "cell_type": "code",
   "execution_count": 5,
   "metadata": {},
   "outputs": [],
   "source": [
    "train = pd.read_csv(TRAIN) # Cargo datos de entrenamiento\n",
    "test = pd.read_csv(TEST) # Cargo datos de test\n",
    "\n",
    "# Eliminamos el campo id ya que no se debe usar para predecir\n",
    "test_ids = test['id']\n",
    "del test['id']\n",
    "del train['id']\n",
    "\n",
    "# Cambiamos el nombre a la columna Año para poder manejarla correctamente\n",
    "train.rename(columns = {'Año':'Anio'}, inplace = True)\n",
    "test.rename(columns = {'Año':'Anio'}, inplace = True)"
   ]
  },
  {
   "cell_type": "code",
   "execution_count": 6,
   "metadata": {
    "scrolled": true
   },
   "outputs": [],
   "source": [
    "del train['Descuento']\n",
    "del test['Descuento']"
   ]
  },
  {
   "cell_type": "code",
   "execution_count": 7,
   "metadata": {},
   "outputs": [],
   "source": [
    "del train['Nombre']\n",
    "del test['Nombre']\n",
    "del train['Ciudad']\n",
    "del test['Ciudad']"
   ]
  },
  {
   "cell_type": "code",
   "execution_count": 8,
   "metadata": {},
   "outputs": [],
   "source": [
    "train=train[train.Combustible!='Electric']"
   ]
  },
  {
   "cell_type": "code",
   "execution_count": 9,
   "metadata": {},
   "outputs": [],
   "source": [
    "train.dropna(inplace=True)"
   ]
  },
  {
   "cell_type": "code",
   "execution_count": 10,
   "metadata": {},
   "outputs": [],
   "source": [
    "label=train.Precio_cat\n",
    "del train['Precio_cat']"
   ]
  },
  {
   "cell_type": "code",
   "execution_count": 11,
   "metadata": {
    "scrolled": false
   },
   "outputs": [],
   "source": [
    "train, test = encode(train, test)\n",
    "train, test = scale(train, test)\n",
    "\n",
    "train, test = split(train, test)\n",
    "train, label = SMOTE(random_state=25).fit_resample(train, label)\n",
    "\n",
    "shuffle_in_unison(train, label)"
   ]
  },
  {
   "cell_type": "code",
   "execution_count": 12,
   "metadata": {},
   "outputs": [
    {
     "ename": "AttributeError",
     "evalue": "'numpy.ndarray' object has no attribute 'columns'",
     "output_type": "error",
     "traceback": [
      "\u001b[0;31m---------------------------------------------------------------------------\u001b[0m",
      "\u001b[0;31mAttributeError\u001b[0m                            Traceback (most recent call last)",
      "\u001b[0;32m<ipython-input-12-4a941fca8659>\u001b[0m in \u001b[0;36m<module>\u001b[0;34m()\u001b[0m\n\u001b[0;32m----> 1\u001b[0;31m \u001b[0;32mfor\u001b[0m \u001b[0ma\u001b[0m \u001b[0;32min\u001b[0m \u001b[0mtrain\u001b[0m\u001b[0;34m.\u001b[0m\u001b[0mcolumns\u001b[0m\u001b[0;34m:\u001b[0m\u001b[0;34m\u001b[0m\u001b[0;34m\u001b[0m\u001b[0m\n\u001b[0m\u001b[1;32m      2\u001b[0m     \u001b[0;32mif\u001b[0m \u001b[0ma\u001b[0m \u001b[0;32min\u001b[0m \u001b[0;34m{\u001b[0m\u001b[0;34m'TOT_MUERTOS'\u001b[0m\u001b[0;34m,\u001b[0m\u001b[0;34m'TOT_HERIDOS_GRAVES'\u001b[0m\u001b[0;34m}\u001b[0m\u001b[0;34m:\u001b[0m\u001b[0;34m\u001b[0m\u001b[0;34m\u001b[0m\u001b[0m\n\u001b[1;32m      3\u001b[0m         \u001b[0;32mcontinue\u001b[0m\u001b[0;34m\u001b[0m\u001b[0;34m\u001b[0m\u001b[0m\n\u001b[1;32m      4\u001b[0m     \u001b[0md\u001b[0m\u001b[0;34m=\u001b[0m\u001b[0mtrain\u001b[0m\u001b[0;34m[\u001b[0m\u001b[0ma\u001b[0m\u001b[0;34m]\u001b[0m\u001b[0;34m[\u001b[0m\u001b[0mabs\u001b[0m\u001b[0;34m(\u001b[0m\u001b[0mzscore\u001b[0m\u001b[0;34m(\u001b[0m\u001b[0mtrain\u001b[0m\u001b[0;34m[\u001b[0m\u001b[0ma\u001b[0m\u001b[0;34m]\u001b[0m\u001b[0;34m)\u001b[0m\u001b[0;34m)\u001b[0m\u001b[0;34m<\u001b[0m\u001b[0;36m3\u001b[0m\u001b[0;34m]\u001b[0m\u001b[0;34m\u001b[0m\u001b[0;34m\u001b[0m\u001b[0m\n\u001b[1;32m      5\u001b[0m     \u001b[0mtrain\u001b[0m\u001b[0;34m[\u001b[0m\u001b[0ma\u001b[0m\u001b[0;34m]\u001b[0m\u001b[0;34m[\u001b[0m\u001b[0mzscore\u001b[0m\u001b[0;34m(\u001b[0m\u001b[0mtrain\u001b[0m\u001b[0;34m[\u001b[0m\u001b[0ma\u001b[0m\u001b[0;34m]\u001b[0m\u001b[0;34m)\u001b[0m\u001b[0;34m<\u001b[0m\u001b[0;34m-\u001b[0m\u001b[0;36m3\u001b[0m\u001b[0;34m]\u001b[0m\u001b[0;34m=\u001b[0m\u001b[0md\u001b[0m\u001b[0;34m.\u001b[0m\u001b[0mmin\u001b[0m\u001b[0;34m(\u001b[0m\u001b[0;34m)\u001b[0m\u001b[0;34m\u001b[0m\u001b[0;34m\u001b[0m\u001b[0m\n",
      "\u001b[0;31mAttributeError\u001b[0m: 'numpy.ndarray' object has no attribute 'columns'"
     ]
    }
   ],
   "source": [
    "for a in train.columns:\n",
    "    if a in {'TOT_MUERTOS','TOT_HERIDOS_GRAVES'}:\n",
    "        continue\n",
    "    d=train[a][abs(zscore(train[a]))<3]\n",
    "    train[a][zscore(train[a])<-3]=d.min()\n",
    "    train[a][zscore(train[a])>3]=d.max()"
   ]
  },
  {
   "cell_type": "code",
   "execution_count": null,
   "metadata": {},
   "outputs": [],
   "source": [
    "model=GaussianNB()"
   ]
  },
  {
   "cell_type": "code",
   "execution_count": null,
   "metadata": {},
   "outputs": [],
   "source": [
    "pca=PCA(0.8)\n",
    "train=pca.fit_transform(train)\n",
    "test=pca.transform(test)"
   ]
  },
  {
   "cell_type": "code",
   "execution_count": null,
   "metadata": {},
   "outputs": [],
   "source": [
    "train.shape"
   ]
  },
  {
   "cell_type": "code",
   "execution_count": null,
   "metadata": {},
   "outputs": [],
   "source": [
    "test.shape"
   ]
  },
  {
   "cell_type": "code",
   "execution_count": null,
   "metadata": {
    "scrolled": false
   },
   "outputs": [],
   "source": [
    "scores=cross_val_score(model, train, label, cv=5)\n",
    "print(scores)\n",
    "print(np.mean(scores))"
   ]
  },
  {
   "cell_type": "markdown",
   "metadata": {},
   "source": [
    "## Generar fichero de Kaggle"
   ]
  },
  {
   "cell_type": "code",
   "execution_count": null,
   "metadata": {},
   "outputs": [],
   "source": [
    "model.fit(train,label)\n",
    "# Ahora predecimos\n",
    "predict = model.predict(test)\n",
    "predict = list(map(int,predict))\n",
    "# Generamos \n",
    "df_result = pd.DataFrame({'id': test_ids, 'Precio_cat': predict})\n",
    "df_result.to_csv(RESULTS+\"try12.csv\", index=False)"
   ]
  }
 ],
 "metadata": {
  "kernelspec": {
   "display_name": "Python 3",
   "language": "python",
   "name": "python3"
  },
  "language_info": {
   "codemirror_mode": {
    "name": "ipython",
    "version": 3
   },
   "file_extension": ".py",
   "mimetype": "text/x-python",
   "name": "python",
   "nbconvert_exporter": "python",
   "pygments_lexer": "ipython3",
   "version": "3.6.9"
  }
 },
 "nbformat": 4,
 "nbformat_minor": 2
}
