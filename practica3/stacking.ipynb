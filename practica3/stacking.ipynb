{
 "cells": [
  {
   "cell_type": "code",
   "execution_count": 2,
   "metadata": {},
   "outputs": [],
   "source": [
    "import pandas as pd\n",
    "import numpy as np\n",
    "from sklearn.model_selection import cross_val_score\n",
    "from sklearn.ensemble import StackingClassifier\n",
    "from sklearn.linear_model import LogisticRegression\n",
    "from collections import Counter\n",
    "\n",
    "from sklearn.neural_network import MLPClassifier\n",
    "from xgboost import XGBClassifier\n",
    "from sklearn.ensemble import GradientBoostingClassifier"
   ]
  },
  {
   "cell_type": "code",
   "execution_count": 3,
   "metadata": {},
   "outputs": [],
   "source": [
    "# explicitly require this experimental feature\n",
    "from sklearn.experimental import enable_hist_gradient_boosting  # noqa\n",
    "# now you can import normally from ensemble\n",
    "from sklearn.ensemble import HistGradientBoostingClassifier"
   ]
  },
  {
   "cell_type": "code",
   "execution_count": 4,
   "metadata": {},
   "outputs": [],
   "source": [
    "DATA='ugrin2020-vehiculo-usado-multiclase/'\n",
    "TRAIN=DATA+'train.csv'\n",
    "TEST=DATA+'test.csv'\n",
    "\n",
    "PREPROCESSED_DATA='preprocessed_data/'\n",
    "RESULTS='results/'"
   ]
  },
  {
   "cell_type": "code",
   "execution_count": 5,
   "metadata": {},
   "outputs": [],
   "source": [
    "test = pd.read_csv(TEST)\n",
    "test_ids = test['id']"
   ]
  },
  {
   "cell_type": "code",
   "execution_count": 6,
   "metadata": {},
   "outputs": [],
   "source": [
    "# Carga de datos ya procesados\n",
    "X=np.load(PREPROCESSED_DATA+'binScale.npz')\n",
    "train = X['arr_0']\n",
    "label = X['arr_1']\n",
    "test = X['arr_2']\n",
    "X.close()"
   ]
  },
  {
   "cell_type": "code",
   "execution_count": 7,
   "metadata": {},
   "outputs": [
    {
     "data": {
      "text/plain": [
       "(9125, 52)"
      ]
     },
     "execution_count": 7,
     "metadata": {},
     "output_type": "execute_result"
    }
   ],
   "source": [
    "train.shape"
   ]
  },
  {
   "cell_type": "code",
   "execution_count": 8,
   "metadata": {},
   "outputs": [],
   "source": [
    "gb=GradientBoostingClassifier(n_estimators=500, learning_rate=0.1)\n",
    "#mlp=MLPClassifier(hidden_layer_sizes=100, early_stopping=True, random_state=25, max_iter=1000)\n",
    "xgb=XGBClassifier(n_estimators=200, max_depth=3, n_jobs=4, eval_metric='mlogloss')\n",
    "#hist=HistGradientBoostingClassifier(max_iter=75,max_leaf_nodes=31,learning_rate=0.1)\n",
    "\n",
    "lr=LogisticRegression(max_iter=1000)\n",
    "\n",
    "estimators=[('gb',gb),('xgb',xgb)]\n",
    "model=StackingClassifier(estimators=estimators,final_estimator=lr,n_jobs=4,verbose=100)"
   ]
  },
  {
   "cell_type": "code",
   "execution_count": 9,
   "metadata": {
    "scrolled": true
   },
   "outputs": [
    {
     "name": "stdout",
     "output_type": "stream",
     "text": [
      "[0.91616438 0.92547945 0.91945205 0.93205479 0.91945205]\n",
      "0.9225205479452054\n"
     ]
    }
   ],
   "source": [
    "scores=cross_val_score(model, train, label)\n",
    "print(scores)\n",
    "print(np.mean(scores))"
   ]
  },
  {
   "cell_type": "markdown",
   "metadata": {},
   "source": [
    "## Generar fichero de Kaggle"
   ]
  },
  {
   "cell_type": "code",
   "execution_count": 10,
   "metadata": {},
   "outputs": [],
   "source": [
    "model.fit(train,label)\n",
    "# Ahora predecimos\n",
    "predict = model.predict(test)\n",
    "predict = list(map(int,predict))\n",
    "# Generamos \n",
    "df_result = pd.DataFrame({'id': test_ids, 'Precio_cat': predict})\n",
    "df_result.to_csv(RESULTS+\"try33.csv\", index=False)"
   ]
  }
 ],
 "metadata": {
  "kernelspec": {
   "display_name": "Python 3",
   "language": "python",
   "name": "python3"
  },
  "language_info": {
   "codemirror_mode": {
    "name": "ipython",
    "version": 3
   },
   "file_extension": ".py",
   "mimetype": "text/x-python",
   "name": "python",
   "nbconvert_exporter": "python",
   "pygments_lexer": "ipython3",
   "version": "3.6.9"
  }
 },
 "nbformat": 4,
 "nbformat_minor": 2
}
