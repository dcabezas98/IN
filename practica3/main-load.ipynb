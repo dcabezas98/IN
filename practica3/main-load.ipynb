{
 "cells": [
  {
   "cell_type": "code",
   "execution_count": 1,
   "metadata": {},
   "outputs": [],
   "source": [
    "import pandas as pd\n",
    "import numpy as np\n",
    "from sklearn.model_selection import cross_val_score\n",
    "from collections import Counter\n",
    "\n",
    "from alg4 import model"
   ]
  },
  {
   "cell_type": "code",
   "execution_count": 2,
   "metadata": {},
   "outputs": [],
   "source": [
    "DATA='ugrin2020-vehiculo-usado-multiclase/'\n",
    "TRAIN=DATA+'train.csv'\n",
    "TEST=DATA+'test.csv'\n",
    "\n",
    "PREPROCESSED_DATA='preprocessed_data/'\n",
    "RESULTS='results/'"
   ]
  },
  {
   "cell_type": "code",
   "execution_count": 3,
   "metadata": {},
   "outputs": [],
   "source": [
    "test = pd.read_csv(TEST)\n",
    "test_ids = test['id']"
   ]
  },
  {
   "cell_type": "code",
   "execution_count": 4,
   "metadata": {},
   "outputs": [],
   "source": [
    "# Carga de datos ya procesados\n",
    "X=np.load(PREPROCESSED_DATA+'binScale.npz')\n",
    "train = X['arr_0']\n",
    "label = X['arr_1']\n",
    "test = X['arr_2']\n",
    "X.close()"
   ]
  },
  {
   "cell_type": "code",
   "execution_count": 5,
   "metadata": {
    "scrolled": true
   },
   "outputs": [
    {
     "name": "stdout",
     "output_type": "stream",
     "text": [
      "[0.8690411  0.87287671 0.87561644 0.88164384 0.87616438]\n",
      "0.8750684931506848\n"
     ]
    }
   ],
   "source": [
    "scores=cross_val_score(model, train, label)\n",
    "print(scores)\n",
    "print(np.mean(scores))"
   ]
  },
  {
   "cell_type": "markdown",
   "metadata": {},
   "source": [
    "## Generar fichero de Kaggle"
   ]
  },
  {
   "cell_type": "code",
   "execution_count": 6,
   "metadata": {},
   "outputs": [],
   "source": [
    "model.fit(train,label)\n",
    "# Ahora predecimos\n",
    "predict = model.predict(test)\n",
    "predict = list(map(int,predict))\n",
    "# Generamos \n",
    "df_result = pd.DataFrame({'id': test_ids, 'Precio_cat': predict})\n",
    "df_result.to_csv(RESULTS+\"try5.csv\", index=False)"
   ]
  }
 ],
 "metadata": {
  "kernelspec": {
   "display_name": "Python 3",
   "language": "python",
   "name": "python3"
  },
  "language_info": {
   "codemirror_mode": {
    "name": "ipython",
    "version": 3
   },
   "file_extension": ".py",
   "mimetype": "text/x-python",
   "name": "python",
   "nbconvert_exporter": "python",
   "pygments_lexer": "ipython3",
   "version": "3.6.9"
  }
 },
 "nbformat": 4,
 "nbformat_minor": 2
}
