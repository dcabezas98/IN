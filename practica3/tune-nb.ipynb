{
 "cells": [
  {
   "cell_type": "code",
   "execution_count": 9,
   "metadata": {},
   "outputs": [],
   "source": [
    "import pandas as pd\n",
    "import numpy as np\n",
    "\n",
    "from sklearn.model_selection import GridSearchCV, cross_val_score\n",
    "from preproc3 import preprocessing\n",
    "from alg7 import model"
   ]
  },
  {
   "cell_type": "code",
   "execution_count": 2,
   "metadata": {},
   "outputs": [],
   "source": [
    "DATA='ugrin2020-vehiculo-usado-multiclase/'\n",
    "TRAIN=DATA+'train.csv'\n",
    "TEST=DATA+'test.csv'\n",
    "\n",
    "RESULTS='results/'"
   ]
  },
  {
   "cell_type": "code",
   "execution_count": 3,
   "metadata": {},
   "outputs": [],
   "source": [
    "train = pd.read_csv(TRAIN) # Cargo datos de entrenamiento\n",
    "test = pd.read_csv(TEST) # Cargo datos de test\n",
    "\n",
    "# Eliminamos el campo id ya que no se debe usar para predecir\n",
    "test_ids = test['id']\n",
    "del test['id']\n",
    "del train['id']\n",
    "\n",
    "# Cambiamos el nombre a la columna Año para poder manejarla correctamente\n",
    "train.rename(columns = {'Año':'Anio'}, inplace = True)\n",
    "test.rename(columns = {'Año':'Anio'}, inplace = True)"
   ]
  },
  {
   "cell_type": "code",
   "execution_count": 4,
   "metadata": {
    "scrolled": true
   },
   "outputs": [],
   "source": [
    "train, label, test = preprocessing(train, test)"
   ]
  },
  {
   "cell_type": "code",
   "execution_count": 18,
   "metadata": {
    "scrolled": true
   },
   "outputs": [
    {
     "name": "stdout",
     "output_type": "stream",
     "text": [
      "Fitting 5 folds for each of 36 candidates, totalling 180 fits\n"
     ]
    },
    {
     "name": "stderr",
     "output_type": "stream",
     "text": [
      "[Parallel(n_jobs=4)]: Using backend LokyBackend with 4 concurrent workers.\n",
      "[Parallel(n_jobs=4)]: Done   1 tasks      | elapsed:    9.6s\n",
      "[Parallel(n_jobs=4)]: Done   2 tasks      | elapsed:    9.6s\n",
      "[Parallel(n_jobs=4)]: Done   3 tasks      | elapsed:    9.7s\n",
      "[Parallel(n_jobs=4)]: Done   4 tasks      | elapsed:    9.7s\n",
      "[Parallel(n_jobs=4)]: Done   5 tasks      | elapsed:   12.0s\n",
      "[Parallel(n_jobs=4)]: Done   6 tasks      | elapsed:   12.5s\n",
      "[Parallel(n_jobs=4)]: Done   7 tasks      | elapsed:   12.6s\n",
      "[Parallel(n_jobs=4)]: Done   8 tasks      | elapsed:   12.6s\n",
      "[Parallel(n_jobs=4)]: Done   9 tasks      | elapsed:   14.8s\n",
      "[Parallel(n_jobs=4)]: Done  10 tasks      | elapsed:   15.6s\n",
      "[Parallel(n_jobs=4)]: Done  11 tasks      | elapsed:   15.8s\n",
      "[Parallel(n_jobs=4)]: Done  12 tasks      | elapsed:   15.8s\n",
      "[Parallel(n_jobs=4)]: Done  13 tasks      | elapsed:   18.2s\n",
      "[Parallel(n_jobs=4)]: Done  14 tasks      | elapsed:   18.7s\n",
      "[Parallel(n_jobs=4)]: Done  15 tasks      | elapsed:   19.2s\n",
      "[Parallel(n_jobs=4)]: Done  16 tasks      | elapsed:   19.6s\n",
      "[Parallel(n_jobs=4)]: Done  17 tasks      | elapsed:   21.8s\n",
      "[Parallel(n_jobs=4)]: Done  18 tasks      | elapsed:   22.5s\n",
      "[Parallel(n_jobs=4)]: Done  19 tasks      | elapsed:   23.0s\n",
      "[Parallel(n_jobs=4)]: Done  20 tasks      | elapsed:   23.4s\n",
      "[Parallel(n_jobs=4)]: Done  21 tasks      | elapsed:   25.7s\n",
      "[Parallel(n_jobs=4)]: Done  22 tasks      | elapsed:   26.7s\n",
      "[Parallel(n_jobs=4)]: Done  23 tasks      | elapsed:   27.3s\n",
      "[Parallel(n_jobs=4)]: Done  24 tasks      | elapsed:   27.8s\n",
      "[Parallel(n_jobs=4)]: Done  25 tasks      | elapsed:   29.7s\n",
      "[Parallel(n_jobs=4)]: Done  26 tasks      | elapsed:   31.1s\n",
      "[Parallel(n_jobs=4)]: Done  27 tasks      | elapsed:   32.0s\n",
      "[Parallel(n_jobs=4)]: Done  28 tasks      | elapsed:   32.6s\n",
      "[Parallel(n_jobs=4)]: Done  29 tasks      | elapsed:   34.3s\n",
      "[Parallel(n_jobs=4)]: Done  30 tasks      | elapsed:   34.5s\n",
      "[Parallel(n_jobs=4)]: Done  31 tasks      | elapsed:   35.1s\n",
      "[Parallel(n_jobs=4)]: Done  32 tasks      | elapsed:   35.5s\n",
      "[Parallel(n_jobs=4)]: Done  33 tasks      | elapsed:   36.7s\n",
      "[Parallel(n_jobs=4)]: Done  34 tasks      | elapsed:   37.1s\n",
      "[Parallel(n_jobs=4)]: Done  35 tasks      | elapsed:   37.4s\n",
      "[Parallel(n_jobs=4)]: Done  36 tasks      | elapsed:   38.0s\n",
      "[Parallel(n_jobs=4)]: Done  37 tasks      | elapsed:   39.3s\n",
      "[Parallel(n_jobs=4)]: Done  38 tasks      | elapsed:   40.0s\n",
      "[Parallel(n_jobs=4)]: Done  39 tasks      | elapsed:   40.3s\n",
      "[Parallel(n_jobs=4)]: Done  40 tasks      | elapsed:   40.9s\n",
      "[Parallel(n_jobs=4)]: Done  41 tasks      | elapsed:   42.5s\n",
      "[Parallel(n_jobs=4)]: Done  42 tasks      | elapsed:   43.5s\n",
      "[Parallel(n_jobs=4)]: Done  43 tasks      | elapsed:   43.6s\n",
      "[Parallel(n_jobs=4)]: Done  44 tasks      | elapsed:   44.2s\n",
      "[Parallel(n_jobs=4)]: Done  45 tasks      | elapsed:   45.7s\n",
      "[Parallel(n_jobs=4)]: Done  46 tasks      | elapsed:   47.3s\n",
      "[Parallel(n_jobs=4)]: Done  47 tasks      | elapsed:   47.4s\n",
      "[Parallel(n_jobs=4)]: Done  48 tasks      | elapsed:   47.9s\n",
      "[Parallel(n_jobs=4)]: Done  49 tasks      | elapsed:   49.3s\n",
      "[Parallel(n_jobs=4)]: Done  50 tasks      | elapsed:   51.1s\n",
      "[Parallel(n_jobs=4)]: Done  51 tasks      | elapsed:   51.6s\n",
      "[Parallel(n_jobs=4)]: Done  52 tasks      | elapsed:   52.3s\n",
      "[Parallel(n_jobs=4)]: Done  53 tasks      | elapsed:   53.3s\n",
      "[Parallel(n_jobs=4)]: Done  54 tasks      | elapsed:   55.3s\n",
      "[Parallel(n_jobs=4)]: Done  55 tasks      | elapsed:   56.0s\n",
      "[Parallel(n_jobs=4)]: Done  56 tasks      | elapsed:   56.8s\n",
      "[Parallel(n_jobs=4)]: Done  57 tasks      | elapsed:   58.0s\n",
      "[Parallel(n_jobs=4)]: Done  58 tasks      | elapsed:   59.7s\n",
      "[Parallel(n_jobs=4)]: Done  59 tasks      | elapsed:  1.0min\n",
      "[Parallel(n_jobs=4)]: Done  60 tasks      | elapsed:  1.0min\n",
      "[Parallel(n_jobs=4)]: Done  61 tasks      | elapsed:  1.0min\n",
      "[Parallel(n_jobs=4)]: Done  62 tasks      | elapsed:  1.0min\n",
      "[Parallel(n_jobs=4)]: Done  63 tasks      | elapsed:  1.1min\n",
      "[Parallel(n_jobs=4)]: Done  64 tasks      | elapsed:  1.1min\n",
      "[Parallel(n_jobs=4)]: Done  65 tasks      | elapsed:  1.1min\n",
      "[Parallel(n_jobs=4)]: Done  66 tasks      | elapsed:  1.1min\n",
      "[Parallel(n_jobs=4)]: Done  67 tasks      | elapsed:  1.1min\n",
      "[Parallel(n_jobs=4)]: Done  68 tasks      | elapsed:  1.1min\n",
      "[Parallel(n_jobs=4)]: Done  69 tasks      | elapsed:  1.1min\n",
      "[Parallel(n_jobs=4)]: Done  70 tasks      | elapsed:  1.1min\n",
      "[Parallel(n_jobs=4)]: Done  71 tasks      | elapsed:  1.2min\n",
      "[Parallel(n_jobs=4)]: Done  72 tasks      | elapsed:  1.2min\n",
      "[Parallel(n_jobs=4)]: Done  73 tasks      | elapsed:  1.2min\n",
      "[Parallel(n_jobs=4)]: Done  74 tasks      | elapsed:  1.2min\n",
      "[Parallel(n_jobs=4)]: Done  75 tasks      | elapsed:  1.2min\n",
      "[Parallel(n_jobs=4)]: Done  76 tasks      | elapsed:  1.2min\n",
      "[Parallel(n_jobs=4)]: Done  77 tasks      | elapsed:  1.2min\n",
      "[Parallel(n_jobs=4)]: Done  78 tasks      | elapsed:  1.2min\n",
      "[Parallel(n_jobs=4)]: Done  79 tasks      | elapsed:  1.3min\n",
      "[Parallel(n_jobs=4)]: Done  80 tasks      | elapsed:  1.3min\n",
      "[Parallel(n_jobs=4)]: Done  81 tasks      | elapsed:  1.3min\n",
      "[Parallel(n_jobs=4)]: Done  82 tasks      | elapsed:  1.3min\n",
      "[Parallel(n_jobs=4)]: Done  83 tasks      | elapsed:  1.3min\n",
      "[Parallel(n_jobs=4)]: Done  84 tasks      | elapsed:  1.4min\n",
      "[Parallel(n_jobs=4)]: Done  85 tasks      | elapsed:  1.4min\n",
      "[Parallel(n_jobs=4)]: Done  86 tasks      | elapsed:  1.4min\n",
      "[Parallel(n_jobs=4)]: Done  87 tasks      | elapsed:  1.4min\n",
      "[Parallel(n_jobs=4)]: Done  88 tasks      | elapsed:  1.4min\n",
      "[Parallel(n_jobs=4)]: Done  89 tasks      | elapsed:  1.5min\n",
      "[Parallel(n_jobs=4)]: Done  90 tasks      | elapsed:  1.5min\n",
      "[Parallel(n_jobs=4)]: Done  91 tasks      | elapsed:  1.5min\n",
      "[Parallel(n_jobs=4)]: Done  92 tasks      | elapsed:  1.5min\n",
      "[Parallel(n_jobs=4)]: Done  93 tasks      | elapsed:  1.5min\n",
      "[Parallel(n_jobs=4)]: Done  94 tasks      | elapsed:  1.5min\n",
      "[Parallel(n_jobs=4)]: Done  95 tasks      | elapsed:  1.5min\n",
      "[Parallel(n_jobs=4)]: Done  96 tasks      | elapsed:  1.5min\n",
      "[Parallel(n_jobs=4)]: Done  97 tasks      | elapsed:  1.5min\n",
      "[Parallel(n_jobs=4)]: Done  98 tasks      | elapsed:  1.6min\n",
      "[Parallel(n_jobs=4)]: Done  99 tasks      | elapsed:  1.6min\n",
      "[Parallel(n_jobs=4)]: Done 100 tasks      | elapsed:  1.6min\n",
      "[Parallel(n_jobs=4)]: Done 101 tasks      | elapsed:  1.6min\n",
      "[Parallel(n_jobs=4)]: Done 102 tasks      | elapsed:  1.6min\n",
      "[Parallel(n_jobs=4)]: Done 103 tasks      | elapsed:  1.6min\n",
      "[Parallel(n_jobs=4)]: Done 104 tasks      | elapsed:  1.6min\n",
      "[Parallel(n_jobs=4)]: Done 105 tasks      | elapsed:  1.7min\n",
      "[Parallel(n_jobs=4)]: Done 106 tasks      | elapsed:  1.7min\n",
      "[Parallel(n_jobs=4)]: Done 107 tasks      | elapsed:  1.7min\n",
      "[Parallel(n_jobs=4)]: Done 108 tasks      | elapsed:  1.7min\n",
      "[Parallel(n_jobs=4)]: Done 109 tasks      | elapsed:  1.7min\n",
      "[Parallel(n_jobs=4)]: Done 110 tasks      | elapsed:  1.8min\n",
      "[Parallel(n_jobs=4)]: Done 111 tasks      | elapsed:  1.8min\n",
      "[Parallel(n_jobs=4)]: Done 112 tasks      | elapsed:  1.8min\n",
      "[Parallel(n_jobs=4)]: Done 113 tasks      | elapsed:  1.8min\n",
      "[Parallel(n_jobs=4)]: Done 114 tasks      | elapsed:  1.8min\n",
      "[Parallel(n_jobs=4)]: Done 115 tasks      | elapsed:  1.8min\n",
      "[Parallel(n_jobs=4)]: Done 116 tasks      | elapsed:  1.9min\n",
      "[Parallel(n_jobs=4)]: Done 117 tasks      | elapsed:  1.9min\n",
      "[Parallel(n_jobs=4)]: Done 118 tasks      | elapsed:  1.9min\n",
      "[Parallel(n_jobs=4)]: Done 119 tasks      | elapsed:  1.9min\n",
      "[Parallel(n_jobs=4)]: Done 120 tasks      | elapsed:  1.9min\n",
      "[Parallel(n_jobs=4)]: Done 121 tasks      | elapsed:  1.9min\n",
      "[Parallel(n_jobs=4)]: Done 122 tasks      | elapsed:  2.0min\n",
      "[Parallel(n_jobs=4)]: Done 123 tasks      | elapsed:  2.0min\n",
      "[Parallel(n_jobs=4)]: Done 124 tasks      | elapsed:  2.0min\n",
      "[Parallel(n_jobs=4)]: Done 125 tasks      | elapsed:  2.0min\n",
      "[Parallel(n_jobs=4)]: Done 126 tasks      | elapsed:  2.0min\n",
      "[Parallel(n_jobs=4)]: Done 127 tasks      | elapsed:  2.0min\n",
      "[Parallel(n_jobs=4)]: Done 128 tasks      | elapsed:  2.0min\n",
      "[Parallel(n_jobs=4)]: Done 129 tasks      | elapsed:  2.0min\n",
      "[Parallel(n_jobs=4)]: Done 130 tasks      | elapsed:  2.1min\n",
      "[Parallel(n_jobs=4)]: Done 131 tasks      | elapsed:  2.1min\n",
      "[Parallel(n_jobs=4)]: Done 132 tasks      | elapsed:  2.1min\n",
      "[Parallel(n_jobs=4)]: Done 133 tasks      | elapsed:  2.1min\n",
      "[Parallel(n_jobs=4)]: Done 134 tasks      | elapsed:  2.1min\n"
     ]
    },
    {
     "name": "stderr",
     "output_type": "stream",
     "text": [
      "[Parallel(n_jobs=4)]: Done 135 tasks      | elapsed:  2.1min\n",
      "[Parallel(n_jobs=4)]: Done 136 tasks      | elapsed:  2.1min\n",
      "[Parallel(n_jobs=4)]: Done 137 tasks      | elapsed:  2.2min\n",
      "[Parallel(n_jobs=4)]: Done 138 tasks      | elapsed:  2.2min\n",
      "[Parallel(n_jobs=4)]: Done 139 tasks      | elapsed:  2.2min\n",
      "[Parallel(n_jobs=4)]: Done 140 tasks      | elapsed:  2.2min\n",
      "[Parallel(n_jobs=4)]: Done 141 tasks      | elapsed:  2.2min\n",
      "[Parallel(n_jobs=4)]: Done 142 tasks      | elapsed:  2.3min\n",
      "[Parallel(n_jobs=4)]: Done 143 tasks      | elapsed:  2.3min\n",
      "[Parallel(n_jobs=4)]: Done 144 tasks      | elapsed:  2.3min\n",
      "[Parallel(n_jobs=4)]: Done 145 tasks      | elapsed:  2.3min\n",
      "[Parallel(n_jobs=4)]: Done 146 tasks      | elapsed:  2.4min\n",
      "[Parallel(n_jobs=4)]: Done 147 tasks      | elapsed:  2.4min\n",
      "[Parallel(n_jobs=4)]: Done 148 tasks      | elapsed:  2.4min\n",
      "[Parallel(n_jobs=4)]: Done 149 tasks      | elapsed:  2.4min\n",
      "[Parallel(n_jobs=4)]: Done 150 tasks      | elapsed:  2.4min\n",
      "[Parallel(n_jobs=4)]: Done 151 tasks      | elapsed:  2.4min\n",
      "[Parallel(n_jobs=4)]: Done 152 tasks      | elapsed:  2.4min\n",
      "[Parallel(n_jobs=4)]: Done 153 tasks      | elapsed:  2.4min\n",
      "[Parallel(n_jobs=4)]: Done 154 tasks      | elapsed:  2.4min\n",
      "[Parallel(n_jobs=4)]: Done 155 tasks      | elapsed:  2.5min\n",
      "[Parallel(n_jobs=4)]: Done 156 tasks      | elapsed:  2.5min\n",
      "[Parallel(n_jobs=4)]: Done 157 tasks      | elapsed:  2.5min\n",
      "[Parallel(n_jobs=4)]: Done 158 tasks      | elapsed:  2.5min\n",
      "[Parallel(n_jobs=4)]: Done 159 tasks      | elapsed:  2.5min\n",
      "[Parallel(n_jobs=4)]: Done 160 tasks      | elapsed:  2.5min\n",
      "[Parallel(n_jobs=4)]: Done 161 tasks      | elapsed:  2.6min\n",
      "[Parallel(n_jobs=4)]: Done 162 tasks      | elapsed:  2.6min\n",
      "[Parallel(n_jobs=4)]: Done 163 tasks      | elapsed:  2.6min\n",
      "[Parallel(n_jobs=4)]: Done 164 tasks      | elapsed:  2.6min\n",
      "[Parallel(n_jobs=4)]: Done 165 tasks      | elapsed:  2.6min\n",
      "[Parallel(n_jobs=4)]: Done 166 tasks      | elapsed:  2.6min\n",
      "[Parallel(n_jobs=4)]: Done 167 tasks      | elapsed:  2.6min\n",
      "[Parallel(n_jobs=4)]: Done 168 tasks      | elapsed:  2.6min\n",
      "[Parallel(n_jobs=4)]: Done 169 tasks      | elapsed:  2.7min\n",
      "[Parallel(n_jobs=4)]: Done 170 tasks      | elapsed:  2.7min\n",
      "[Parallel(n_jobs=4)]: Done 171 tasks      | elapsed:  2.7min\n",
      "[Parallel(n_jobs=4)]: Done 172 tasks      | elapsed:  2.7min\n",
      "[Parallel(n_jobs=4)]: Done 173 tasks      | elapsed:  2.8min\n",
      "[Parallel(n_jobs=4)]: Done 180 out of 180 | elapsed:  2.9min finished\n"
     ]
    }
   ],
   "source": [
    "param_grid={'n_estimators': [250,300,350,400,450,500], 'max_depth': [16,20,24,28,32,36]}\n",
    "searcher = GridSearchCV(model, param_grid, n_jobs=4,verbose=15)\n",
    "search = searcher.fit(train,label)"
   ]
  },
  {
   "cell_type": "code",
   "execution_count": 19,
   "metadata": {},
   "outputs": [
    {
     "name": "stdout",
     "output_type": "stream",
     "text": [
      "Mejores parámetros: {'max_depth': 20, 'n_estimators': 350}\n",
      "Mejor puntuación: 0.9036712328767124\n"
     ]
    },
    {
     "data": {
      "text/plain": [
       "RandomForestClassifier(max_depth=20, n_estimators=350, n_jobs=4,\n",
       "                       random_state=25)"
      ]
     },
     "execution_count": 19,
     "metadata": {},
     "output_type": "execute_result"
    }
   ],
   "source": [
    "print('Mejores parámetros:', search.best_params_)\n",
    "print('Mejor puntuación:', search.best_score_)\n",
    "model.set_params(**(search.best_params_))"
   ]
  },
  {
   "cell_type": "code",
   "execution_count": 17,
   "metadata": {
    "scrolled": true
   },
   "outputs": [
    {
     "name": "stdout",
     "output_type": "stream",
     "text": [
      "[0.90684932 0.90739726 0.9090411  0.88712329 0.90794521]\n",
      "0.9036712328767124\n"
     ]
    }
   ],
   "source": [
    "scores=cross_val_score(model, train, label)\n",
    "print(scores)\n",
    "print(np.mean(scores))"
   ]
  },
  {
   "cell_type": "code",
   "execution_count": null,
   "metadata": {},
   "outputs": [],
   "source": [
    "model.fit(train,label)"
   ]
  }
 ],
 "metadata": {
  "kernelspec": {
   "display_name": "Python 3",
   "language": "python",
   "name": "python3"
  },
  "language_info": {
   "codemirror_mode": {
    "name": "ipython",
    "version": 3
   },
   "file_extension": ".py",
   "mimetype": "text/x-python",
   "name": "python",
   "nbconvert_exporter": "python",
   "pygments_lexer": "ipython3",
   "version": "3.6.9"
  }
 },
 "nbformat": 4,
 "nbformat_minor": 2
}
