{
 "cells": [
  {
   "cell_type": "code",
   "execution_count": 1,
   "metadata": {},
   "outputs": [],
   "source": [
    "import pandas as pd\n",
    "import numpy as np\n",
    "\n",
    "from sklearn.model_selection import GridSearchCV, cross_val_score\n",
    "from alg3 import model"
   ]
  },
  {
   "cell_type": "code",
   "execution_count": 4,
   "metadata": {},
   "outputs": [],
   "source": [
    "DATA='ugrin2020-vehiculo-usado-multiclase/'\n",
    "TRAIN=DATA+'train.csv'\n",
    "TEST=DATA+'test.csv'\n",
    "\n",
    "PREPROCESSED_DATA='preprocessed_data/'\n",
    "RESULTS='results/'"
   ]
  },
  {
   "cell_type": "code",
   "execution_count": 5,
   "metadata": {},
   "outputs": [],
   "source": [
    "# Carga de datos ya procesados\n",
    "X=np.load(PREPROCESSED_DATA+'binScale.npz')\n",
    "train = X['arr_0']\n",
    "label = X['arr_1']\n",
    "test = X['arr_2']\n",
    "X.close()"
   ]
  },
  {
   "cell_type": "code",
   "execution_count": 9,
   "metadata": {
    "scrolled": true
   },
   "outputs": [
    {
     "name": "stdout",
     "output_type": "stream",
     "text": [
      "Fitting 3 folds for each of 5 candidates, totalling 15 fits\n"
     ]
    },
    {
     "name": "stderr",
     "output_type": "stream",
     "text": [
      "[Parallel(n_jobs=4)]: Using backend LokyBackend with 4 concurrent workers.\n",
      "[Parallel(n_jobs=4)]: Done   1 tasks      | elapsed:   20.0s\n",
      "[Parallel(n_jobs=4)]: Done   2 tasks      | elapsed:   21.1s\n",
      "[Parallel(n_jobs=4)]: Done   3 tasks      | elapsed:   24.9s\n",
      "[Parallel(n_jobs=4)]: Done   4 tasks      | elapsed:   26.6s\n",
      "[Parallel(n_jobs=4)]: Done   5 tasks      | elapsed:   42.9s\n",
      "[Parallel(n_jobs=4)]: Done   6 tasks      | elapsed:   43.3s\n",
      "[Parallel(n_jobs=4)]: Done   7 tasks      | elapsed:   47.4s\n",
      "[Parallel(n_jobs=4)]: Done   8 tasks      | elapsed:   58.2s\n",
      "[Parallel(n_jobs=4)]: Done  10 out of  15 | elapsed:  1.4min remaining:   42.2s\n",
      "[Parallel(n_jobs=4)]: Done  12 out of  15 | elapsed:  2.0min remaining:   29.7s\n",
      "[Parallel(n_jobs=4)]: Done  15 out of  15 | elapsed:  2.3min finished\n"
     ]
    }
   ],
   "source": [
    "param_grid={'hidden_layer_sizes': [(50,50),(100,100),(150,150),(200,200),(250,250)]}\n",
    "#param_grid={'hidden_layer_sizes': [(50),(100),(150),(200),(250)], 'early_stopping': [True, False]}\n",
    "searcher = GridSearchCV(model, param_grid, n_jobs=4,verbose=15,cv=3)\n",
    "search = searcher.fit(train,label)"
   ]
  },
  {
   "cell_type": "code",
   "execution_count": 10,
   "metadata": {},
   "outputs": [
    {
     "data": {
      "text/html": [
       "<div>\n",
       "<style scoped>\n",
       "    .dataframe tbody tr th:only-of-type {\n",
       "        vertical-align: middle;\n",
       "    }\n",
       "\n",
       "    .dataframe tbody tr th {\n",
       "        vertical-align: top;\n",
       "    }\n",
       "\n",
       "    .dataframe thead th {\n",
       "        text-align: right;\n",
       "    }\n",
       "</style>\n",
       "<table border=\"1\" class=\"dataframe\">\n",
       "  <thead>\n",
       "    <tr style=\"text-align: right;\">\n",
       "      <th></th>\n",
       "      <th>mean_fit_time</th>\n",
       "      <th>std_fit_time</th>\n",
       "      <th>mean_score_time</th>\n",
       "      <th>std_score_time</th>\n",
       "      <th>param_hidden_layer_sizes</th>\n",
       "      <th>params</th>\n",
       "      <th>split0_test_score</th>\n",
       "      <th>split1_test_score</th>\n",
       "      <th>split2_test_score</th>\n",
       "      <th>mean_test_score</th>\n",
       "      <th>std_test_score</th>\n",
       "      <th>rank_test_score</th>\n",
       "    </tr>\n",
       "  </thead>\n",
       "  <tbody>\n",
       "    <tr>\n",
       "      <th>0</th>\n",
       "      <td>21.938279</td>\n",
       "      <td>2.862618</td>\n",
       "      <td>0.010391</td>\n",
       "      <td>0.000294</td>\n",
       "      <td>(50, 50)</td>\n",
       "      <td>{'hidden_layer_sizes': (50, 50)}</td>\n",
       "      <td>0.910914</td>\n",
       "      <td>0.907955</td>\n",
       "      <td>0.893456</td>\n",
       "      <td>0.904108</td>\n",
       "      <td>0.007629</td>\n",
       "      <td>5</td>\n",
       "    </tr>\n",
       "    <tr>\n",
       "      <th>1</th>\n",
       "      <td>24.564271</td>\n",
       "      <td>1.250406</td>\n",
       "      <td>0.019806</td>\n",
       "      <td>0.000616</td>\n",
       "      <td>(100, 100)</td>\n",
       "      <td>{'hidden_layer_sizes': (100, 100)}</td>\n",
       "      <td>0.922748</td>\n",
       "      <td>0.904997</td>\n",
       "      <td>0.902664</td>\n",
       "      <td>0.910136</td>\n",
       "      <td>0.008969</td>\n",
       "      <td>4</td>\n",
       "    </tr>\n",
       "    <tr>\n",
       "      <th>2</th>\n",
       "      <td>25.356950</td>\n",
       "      <td>5.571273</td>\n",
       "      <td>0.028268</td>\n",
       "      <td>0.001392</td>\n",
       "      <td>(150, 150)</td>\n",
       "      <td>{'hidden_layer_sizes': (150, 150)}</td>\n",
       "      <td>0.925378</td>\n",
       "      <td>0.919132</td>\n",
       "      <td>0.905952</td>\n",
       "      <td>0.916821</td>\n",
       "      <td>0.008097</td>\n",
       "      <td>2</td>\n",
       "    </tr>\n",
       "    <tr>\n",
       "      <th>3</th>\n",
       "      <td>51.369597</td>\n",
       "      <td>13.246619</td>\n",
       "      <td>0.042181</td>\n",
       "      <td>0.001886</td>\n",
       "      <td>(200, 200)</td>\n",
       "      <td>{'hidden_layer_sizes': (200, 200)}</td>\n",
       "      <td>0.929652</td>\n",
       "      <td>0.915187</td>\n",
       "      <td>0.908912</td>\n",
       "      <td>0.917917</td>\n",
       "      <td>0.008684</td>\n",
       "      <td>1</td>\n",
       "    </tr>\n",
       "    <tr>\n",
       "      <th>4</th>\n",
       "      <td>47.211475</td>\n",
       "      <td>4.668500</td>\n",
       "      <td>0.038083</td>\n",
       "      <td>0.013861</td>\n",
       "      <td>(250, 250)</td>\n",
       "      <td>{'hidden_layer_sizes': (250, 250)}</td>\n",
       "      <td>0.921762</td>\n",
       "      <td>0.912886</td>\n",
       "      <td>0.908912</td>\n",
       "      <td>0.914520</td>\n",
       "      <td>0.005372</td>\n",
       "      <td>3</td>\n",
       "    </tr>\n",
       "  </tbody>\n",
       "</table>\n",
       "</div>"
      ],
      "text/plain": [
       "   mean_fit_time  std_fit_time  mean_score_time  std_score_time  \\\n",
       "0      21.938279      2.862618         0.010391        0.000294   \n",
       "1      24.564271      1.250406         0.019806        0.000616   \n",
       "2      25.356950      5.571273         0.028268        0.001392   \n",
       "3      51.369597     13.246619         0.042181        0.001886   \n",
       "4      47.211475      4.668500         0.038083        0.013861   \n",
       "\n",
       "  param_hidden_layer_sizes                              params  \\\n",
       "0                 (50, 50)    {'hidden_layer_sizes': (50, 50)}   \n",
       "1               (100, 100)  {'hidden_layer_sizes': (100, 100)}   \n",
       "2               (150, 150)  {'hidden_layer_sizes': (150, 150)}   \n",
       "3               (200, 200)  {'hidden_layer_sizes': (200, 200)}   \n",
       "4               (250, 250)  {'hidden_layer_sizes': (250, 250)}   \n",
       "\n",
       "   split0_test_score  split1_test_score  split2_test_score  mean_test_score  \\\n",
       "0           0.910914           0.907955           0.893456         0.904108   \n",
       "1           0.922748           0.904997           0.902664         0.910136   \n",
       "2           0.925378           0.919132           0.905952         0.916821   \n",
       "3           0.929652           0.915187           0.908912         0.917917   \n",
       "4           0.921762           0.912886           0.908912         0.914520   \n",
       "\n",
       "   std_test_score  rank_test_score  \n",
       "0        0.007629                5  \n",
       "1        0.008969                4  \n",
       "2        0.008097                2  \n",
       "3        0.008684                1  \n",
       "4        0.005372                3  "
      ]
     },
     "execution_count": 10,
     "metadata": {},
     "output_type": "execute_result"
    }
   ],
   "source": [
    "pd.DataFrame(search.cv_results_)"
   ]
  },
  {
   "cell_type": "code",
   "execution_count": 19,
   "metadata": {},
   "outputs": [
    {
     "name": "stdout",
     "output_type": "stream",
     "text": [
      "Mejores parámetros: {'max_depth': 20, 'n_estimators': 350}\n",
      "Mejor puntuación: 0.9036712328767124\n"
     ]
    },
    {
     "data": {
      "text/plain": [
       "RandomForestClassifier(max_depth=20, n_estimators=350, n_jobs=4,\n",
       "                       random_state=25)"
      ]
     },
     "execution_count": 19,
     "metadata": {},
     "output_type": "execute_result"
    }
   ],
   "source": [
    "print('Mejores parámetros:', search.best_params_)\n",
    "print('Mejor puntuación:', search.best_score_)\n",
    "model.set_params(**(search.best_params_))"
   ]
  },
  {
   "cell_type": "code",
   "execution_count": 17,
   "metadata": {
    "scrolled": true
   },
   "outputs": [
    {
     "name": "stdout",
     "output_type": "stream",
     "text": [
      "[0.90684932 0.90739726 0.9090411  0.88712329 0.90794521]\n",
      "0.9036712328767124\n"
     ]
    }
   ],
   "source": [
    "scores=cross_val_score(model, train, label)\n",
    "print(scores)\n",
    "print(np.mean(scores))"
   ]
  },
  {
   "cell_type": "code",
   "execution_count": null,
   "metadata": {},
   "outputs": [],
   "source": [
    "model.fit(train,label)"
   ]
  }
 ],
 "metadata": {
  "kernelspec": {
   "display_name": "Python 3",
   "language": "python",
   "name": "python3"
  },
  "language_info": {
   "codemirror_mode": {
    "name": "ipython",
    "version": 3
   },
   "file_extension": ".py",
   "mimetype": "text/x-python",
   "name": "python",
   "nbconvert_exporter": "python",
   "pygments_lexer": "ipython3",
   "version": "3.6.9"
  }
 },
 "nbformat": 4,
 "nbformat_minor": 2
}
