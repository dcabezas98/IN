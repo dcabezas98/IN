{
 "cells": [
  {
   "cell_type": "code",
   "execution_count": 5,
   "metadata": {},
   "outputs": [],
   "source": [
    "import pandas as pd\n",
    "import numpy as np\n",
    "\n",
    "from sklearn.model_selection import GridSearchCV, cross_val_score\n",
    "from alg5 import model"
   ]
  },
  {
   "cell_type": "code",
   "execution_count": 6,
   "metadata": {},
   "outputs": [],
   "source": [
    "DATA='ugrin2020-vehiculo-usado-multiclase/'\n",
    "TRAIN=DATA+'train.csv'\n",
    "TEST=DATA+'test.csv'\n",
    "\n",
    "PREPROCESSED_DATA='preprocessed_data/'\n",
    "RESULTS='results/'"
   ]
  },
  {
   "cell_type": "code",
   "execution_count": 7,
   "metadata": {},
   "outputs": [],
   "source": [
    "# Carga de datos ya procesados\n",
    "X=np.load(PREPROCESSED_DATA+'binScale.npz')\n",
    "train = X['arr_0']\n",
    "label = X['arr_1']\n",
    "test = X['arr_2']\n",
    "X.close()"
   ]
  },
  {
   "cell_type": "code",
   "execution_count": 21,
   "metadata": {
    "scrolled": true
   },
   "outputs": [
    {
     "name": "stdout",
     "output_type": "stream",
     "text": [
      "Fitting 5 folds for each of 11 candidates, totalling 55 fits\n"
     ]
    },
    {
     "name": "stderr",
     "output_type": "stream",
     "text": [
      "[Parallel(n_jobs=4)]: Using backend LokyBackend with 4 concurrent workers.\n",
      "[Parallel(n_jobs=4)]: Done   1 tasks      | elapsed:    2.6s\n",
      "[Parallel(n_jobs=4)]: Done   2 tasks      | elapsed:    2.6s\n",
      "[Parallel(n_jobs=4)]: Done   3 tasks      | elapsed:    2.6s\n",
      "[Parallel(n_jobs=4)]: Done   4 tasks      | elapsed:    2.6s\n",
      "[Parallel(n_jobs=4)]: Done   5 tasks      | elapsed:    5.2s\n",
      "[Parallel(n_jobs=4)]: Done   6 tasks      | elapsed:    5.2s\n",
      "[Parallel(n_jobs=4)]: Done   7 tasks      | elapsed:    5.2s\n",
      "[Parallel(n_jobs=4)]: Done   8 tasks      | elapsed:    5.2s\n",
      "[Parallel(n_jobs=4)]: Done   9 tasks      | elapsed:    7.6s\n",
      "[Parallel(n_jobs=4)]: Done  10 tasks      | elapsed:    7.7s\n",
      "[Parallel(n_jobs=4)]: Done  11 tasks      | elapsed:    7.7s\n",
      "[Parallel(n_jobs=4)]: Done  12 tasks      | elapsed:    7.7s\n",
      "[Parallel(n_jobs=4)]: Done  13 tasks      | elapsed:   10.0s\n",
      "[Parallel(n_jobs=4)]: Done  14 tasks      | elapsed:   10.1s\n",
      "[Parallel(n_jobs=4)]: Done  15 tasks      | elapsed:   10.1s\n",
      "[Parallel(n_jobs=4)]: Done  16 tasks      | elapsed:   10.1s\n",
      "[Parallel(n_jobs=4)]: Done  17 tasks      | elapsed:   12.3s\n",
      "[Parallel(n_jobs=4)]: Done  18 tasks      | elapsed:   12.5s\n",
      "[Parallel(n_jobs=4)]: Done  19 tasks      | elapsed:   12.5s\n",
      "[Parallel(n_jobs=4)]: Done  20 tasks      | elapsed:   12.6s\n",
      "[Parallel(n_jobs=4)]: Done  21 tasks      | elapsed:   14.7s\n",
      "[Parallel(n_jobs=4)]: Done  22 tasks      | elapsed:   14.9s\n",
      "[Parallel(n_jobs=4)]: Done  23 tasks      | elapsed:   14.9s\n",
      "[Parallel(n_jobs=4)]: Done  24 tasks      | elapsed:   15.0s\n",
      "[Parallel(n_jobs=4)]: Done  25 tasks      | elapsed:   17.1s\n",
      "[Parallel(n_jobs=4)]: Done  26 tasks      | elapsed:   17.3s\n",
      "[Parallel(n_jobs=4)]: Done  27 tasks      | elapsed:   17.3s\n",
      "[Parallel(n_jobs=4)]: Done  28 tasks      | elapsed:   17.4s\n",
      "[Parallel(n_jobs=4)]: Done  29 tasks      | elapsed:   19.6s\n",
      "[Parallel(n_jobs=4)]: Done  30 tasks      | elapsed:   19.9s\n",
      "[Parallel(n_jobs=4)]: Done  31 tasks      | elapsed:   20.0s\n",
      "[Parallel(n_jobs=4)]: Done  32 tasks      | elapsed:   20.0s\n",
      "[Parallel(n_jobs=4)]: Done  33 tasks      | elapsed:   22.6s\n",
      "[Parallel(n_jobs=4)]: Done  34 tasks      | elapsed:   23.0s\n",
      "[Parallel(n_jobs=4)]: Done  35 tasks      | elapsed:   23.1s\n",
      "[Parallel(n_jobs=4)]: Done  36 tasks      | elapsed:   23.1s\n",
      "[Parallel(n_jobs=4)]: Done  37 tasks      | elapsed:   25.9s\n",
      "[Parallel(n_jobs=4)]: Done  38 tasks      | elapsed:   26.3s\n",
      "[Parallel(n_jobs=4)]: Done  39 tasks      | elapsed:   26.6s\n",
      "[Parallel(n_jobs=4)]: Done  40 tasks      | elapsed:   26.6s\n",
      "[Parallel(n_jobs=4)]: Done  41 tasks      | elapsed:   29.0s\n",
      "[Parallel(n_jobs=4)]: Done  42 tasks      | elapsed:   29.5s\n",
      "[Parallel(n_jobs=4)]: Done  43 tasks      | elapsed:   29.8s\n",
      "[Parallel(n_jobs=4)]: Done  44 tasks      | elapsed:   29.8s\n",
      "[Parallel(n_jobs=4)]: Done  45 tasks      | elapsed:   32.4s\n",
      "[Parallel(n_jobs=4)]: Done  46 tasks      | elapsed:   33.0s\n",
      "[Parallel(n_jobs=4)]: Done  47 tasks      | elapsed:   33.2s\n",
      "[Parallel(n_jobs=4)]: Done  48 tasks      | elapsed:   33.2s\n",
      "[Parallel(n_jobs=4)]: Done  52 out of  55 | elapsed:   36.3s remaining:    2.1s\n",
      "[Parallel(n_jobs=4)]: Done  55 out of  55 | elapsed:   38.5s finished\n"
     ]
    }
   ],
   "source": [
    "#param_grid={'C': [0.25,0.5,0.75,1,1.25,1.5,1.75,2,2.25,2.5],'kernel':['rbf','poly','sigmoid']}\n",
    "param_grid={'C': list(range(55,76,2))}\n",
    "searcher = GridSearchCV(model, param_grid, n_jobs=4,verbose=15,cv=5)\n",
    "search = searcher.fit(train,label)"
   ]
  },
  {
   "cell_type": "code",
   "execution_count": 22,
   "metadata": {},
   "outputs": [
    {
     "data": {
      "text/html": [
       "<div>\n",
       "<style scoped>\n",
       "    .dataframe tbody tr th:only-of-type {\n",
       "        vertical-align: middle;\n",
       "    }\n",
       "\n",
       "    .dataframe tbody tr th {\n",
       "        vertical-align: top;\n",
       "    }\n",
       "\n",
       "    .dataframe thead th {\n",
       "        text-align: right;\n",
       "    }\n",
       "</style>\n",
       "<table border=\"1\" class=\"dataframe\">\n",
       "  <thead>\n",
       "    <tr style=\"text-align: right;\">\n",
       "      <th></th>\n",
       "      <th>param_C</th>\n",
       "      <th>mean_test_score</th>\n",
       "      <th>rank_test_score</th>\n",
       "    </tr>\n",
       "  </thead>\n",
       "  <tbody>\n",
       "    <tr>\n",
       "      <th>5</th>\n",
       "      <td>65</td>\n",
       "      <td>0.914301</td>\n",
       "      <td>1</td>\n",
       "    </tr>\n",
       "    <tr>\n",
       "      <th>3</th>\n",
       "      <td>61</td>\n",
       "      <td>0.914192</td>\n",
       "      <td>2</td>\n",
       "    </tr>\n",
       "    <tr>\n",
       "      <th>6</th>\n",
       "      <td>67</td>\n",
       "      <td>0.914082</td>\n",
       "      <td>3</td>\n",
       "    </tr>\n",
       "    <tr>\n",
       "      <th>4</th>\n",
       "      <td>63</td>\n",
       "      <td>0.913973</td>\n",
       "      <td>4</td>\n",
       "    </tr>\n",
       "    <tr>\n",
       "      <th>9</th>\n",
       "      <td>73</td>\n",
       "      <td>0.913973</td>\n",
       "      <td>4</td>\n",
       "    </tr>\n",
       "    <tr>\n",
       "      <th>8</th>\n",
       "      <td>71</td>\n",
       "      <td>0.913863</td>\n",
       "      <td>6</td>\n",
       "    </tr>\n",
       "    <tr>\n",
       "      <th>7</th>\n",
       "      <td>69</td>\n",
       "      <td>0.913863</td>\n",
       "      <td>7</td>\n",
       "    </tr>\n",
       "    <tr>\n",
       "      <th>10</th>\n",
       "      <td>75</td>\n",
       "      <td>0.913753</td>\n",
       "      <td>8</td>\n",
       "    </tr>\n",
       "    <tr>\n",
       "      <th>1</th>\n",
       "      <td>57</td>\n",
       "      <td>0.913534</td>\n",
       "      <td>9</td>\n",
       "    </tr>\n",
       "    <tr>\n",
       "      <th>0</th>\n",
       "      <td>55</td>\n",
       "      <td>0.913425</td>\n",
       "      <td>10</td>\n",
       "    </tr>\n",
       "    <tr>\n",
       "      <th>2</th>\n",
       "      <td>59</td>\n",
       "      <td>0.913425</td>\n",
       "      <td>10</td>\n",
       "    </tr>\n",
       "  </tbody>\n",
       "</table>\n",
       "</div>"
      ],
      "text/plain": [
       "   param_C  mean_test_score  rank_test_score\n",
       "5       65         0.914301                1\n",
       "3       61         0.914192                2\n",
       "6       67         0.914082                3\n",
       "4       63         0.913973                4\n",
       "9       73         0.913973                4\n",
       "8       71         0.913863                6\n",
       "7       69         0.913863                7\n",
       "10      75         0.913753                8\n",
       "1       57         0.913534                9\n",
       "0       55         0.913425               10\n",
       "2       59         0.913425               10"
      ]
     },
     "execution_count": 22,
     "metadata": {},
     "output_type": "execute_result"
    }
   ],
   "source": [
    "pd.DataFrame(search.cv_results_)[['param_C','mean_test_score','rank_test_score']].sort_values(by='rank_test_score')"
   ]
  },
  {
   "cell_type": "code",
   "execution_count": 23,
   "metadata": {},
   "outputs": [
    {
     "name": "stdout",
     "output_type": "stream",
     "text": [
      "Mejores parámetros: {'C': 65}\n",
      "Mejor puntuación: 0.9143013698630137\n"
     ]
    },
    {
     "data": {
      "text/plain": [
       "SVC(C=65, random_state=25)"
      ]
     },
     "execution_count": 23,
     "metadata": {},
     "output_type": "execute_result"
    }
   ],
   "source": [
    "print('Mejores parámetros:', search.best_params_)\n",
    "print('Mejor puntuación:', search.best_score_)\n",
    "model.set_params(**(search.best_params_))"
   ]
  },
  {
   "cell_type": "code",
   "execution_count": 24,
   "metadata": {
    "scrolled": true
   },
   "outputs": [
    {
     "name": "stdout",
     "output_type": "stream",
     "text": [
      "[0.9260274  0.90684932 0.91068493 0.91123288 0.91671233]\n",
      "0.9143013698630137\n"
     ]
    }
   ],
   "source": [
    "scores=cross_val_score(model, train, label)\n",
    "print(scores)\n",
    "print(np.mean(scores))"
   ]
  },
  {
   "cell_type": "code",
   "execution_count": null,
   "metadata": {},
   "outputs": [],
   "source": [
    "model.fit(train,label)"
   ]
  }
 ],
 "metadata": {
  "kernelspec": {
   "display_name": "Python 3",
   "language": "python",
   "name": "python3"
  },
  "language_info": {
   "codemirror_mode": {
    "name": "ipython",
    "version": 3
   },
   "file_extension": ".py",
   "mimetype": "text/x-python",
   "name": "python",
   "nbconvert_exporter": "python",
   "pygments_lexer": "ipython3",
   "version": "3.6.9"
  }
 },
 "nbformat": 4,
 "nbformat_minor": 2
}
