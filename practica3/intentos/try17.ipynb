{
 "cells": [
  {
   "cell_type": "code",
   "execution_count": null,
   "metadata": {},
   "outputs": [],
   "source": [
    "import pandas as pd\n",
    "import numpy as np\n",
    "from sklearn.model_selection import cross_val_score\n",
    "from preproc3 import preprocessing"
   ]
  },
  {
   "cell_type": "code",
   "execution_count": null,
   "metadata": {},
   "outputs": [],
   "source": [
    "from sklearn.ensemble import StackingClassifier\n",
    "from sklearn.ensemble import GradientBoostingClassifier\n",
    "from sklearn.linear_model import LogisticRegression"
   ]
  },
  {
   "cell_type": "code",
   "execution_count": null,
   "metadata": {},
   "outputs": [],
   "source": [
    "gb1=GradientBoostingClassifier(n_estimators=450, learning_rate=0.14, subsample=0.9)\n",
    "gb2=GradientBoostingClassifier(n_estimators=500, learning_rate=0.12, subsample=0.9)\n",
    "gb3=GradientBoostingClassifier(n_estimators=550, learning_rate=0.1, subsample=0.9)\n",
    "gb4=GradientBoostingClassifier(n_estimators=600, learning_rate=0.08, subsample=0.9)\n",
    "\n",
    "lr=LogisticRegression(max_iter=1000)\n",
    "\n",
    "estimators=[('gb1',gb1),('gb2',gb2),('gb3',gb3),('gb4',gb4)]\n",
    "model=StackingClassifier(passthrough=True, estimators=estimators,final_estimator=lr,n_jobs=4,verbose=100)"
   ]
  },
  {
   "cell_type": "code",
   "execution_count": null,
   "metadata": {},
   "outputs": [],
   "source": [
    "DATA='ugrin2020-vehiculo-usado-multiclase/'\n",
    "TRAIN=DATA+'train.csv'\n",
    "TEST=DATA+'test.csv'\n",
    "\n",
    "RESULTS='../results/'"
   ]
  },
  {
   "cell_type": "code",
   "execution_count": null,
   "metadata": {},
   "outputs": [],
   "source": [
    "train = pd.read_csv(TRAIN) # Cargo datos de entrenamiento\n",
    "test = pd.read_csv(TEST) # Cargo datos de test\n",
    "\n",
    "# Eliminamos el campo id ya que no se debe usar para predecir\n",
    "test_ids = test['id']\n",
    "del test['id']\n",
    "del train['id']\n",
    "\n",
    "# Cambiamos el nombre a la columna Año para poder manejarla correctamente\n",
    "train.rename(columns = {'Año':'Anio'}, inplace = True)\n",
    "test.rename(columns = {'Año':'Anio'}, inplace = True)"
   ]
  },
  {
   "cell_type": "code",
   "execution_count": null,
   "metadata": {},
   "outputs": [],
   "source": [
    "train, label, test = preprocessing(train, test)"
   ]
  },
  {
   "cell_type": "code",
   "execution_count": null,
   "metadata": {},
   "outputs": [],
   "source": [
    "scores=cross_val_score(model, train, label, cv=5)\n",
    "print(scores)\n",
    "print(np.mean(scores))"
   ]
  },
  {
   "cell_type": "code",
   "execution_count": null,
   "metadata": {},
   "outputs": [],
   "source": [
    "model.fit(train,label)\n",
    "# Ahora predecimos\n",
    "predict = model.predict(test)\n",
    "predict = list(map(int,predict))\n",
    "# Generamos \n",
    "df_result = pd.DataFrame({'id': test_ids, 'Precio_cat': predict})\n",
    "df_result.to_csv(RESULTS+\"try17.csv\", index=False)"
   ]
  }
 ],
 "metadata": {
  "kernelspec": {
   "display_name": "Python 3",
   "language": "python",
   "name": "python3"
  },
  "language_info": {
   "codemirror_mode": {
    "name": "ipython",
    "version": 3
   },
   "file_extension": ".py",
   "mimetype": "text/x-python",
   "name": "python",
   "nbconvert_exporter": "python",
   "pygments_lexer": "ipython3",
   "version": "3.8.5"
  }
 },
 "nbformat": 4,
 "nbformat_minor": 2
}
